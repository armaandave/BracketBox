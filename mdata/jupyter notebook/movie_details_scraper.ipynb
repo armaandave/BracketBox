{
 "cells": [
  {
   "cell_type": "code",
   "execution_count": 4,
   "metadata": {},
   "outputs": [],
   "source": [
    "import requests\n",
    "from bs4 import BeautifulSoup as bs\n",
    "import csv\n",
    "import pandas as pd\n",
    "import urllib\n",
    "import re\n",
    "pd.set_option('display.float_format', lambda x: '%.2f' % x)\n",
    "from time import sleep"
   ]
  },
  {
   "cell_type": "code",
   "execution_count": 5,
   "metadata": {},
   "outputs": [],
   "source": [
    "import locale\n",
    "\n",
    "top_level_data = pd.read_csv(\"C:\\\\Users\\\\adave\\\\src\\\\bbox\\\\mdata\\\\thenum\\\\4-7-20\\\\top_level_movies.csv\")\n",
    "titles = top_level_data[\"title\"]\n",
    "links = top_level_data[\"link\"]"
   ]
  },
  {
   "cell_type": "code",
   "execution_count": 47,
   "metadata": {},
   "outputs": [
    {
     "name": "stdout",
     "output_type": "stream",
     "text": [
      "'NoneType' object has no attribute 'strip'\n",
      "[<td><b>Domestic Releases:</b></td>, <td>December 18th, 2015 (IMAX) by <a href=\"/market/distributor/Walt-Disney\">Walt Disney</a><br/>December 18th, 2015 (Wide) by <a href=\"/market/distributor/Walt-Disney\">Walt Disney</a></td>, <td><b>International Releases:</b></td>, <td>December 16th, 2015 (Wide) (<a href=\"/movie/Star-Wars-Ep-VII-The-Force-Awakens/Belgium#tab=summary\">Belgium</a>)\n",
      "<br/>December 16th, 2015 (Wide) (<a href=\"/movie/Star-Wars-Ep-VII-The-Force-Awakens/Denmark#tab=summary\">Denmark</a>)\n",
      "<br/>December 16th, 2015 (Wide) (<a href=\"/movie/Star-Wars-Ep-VII-The-Force-Awakens/Egypt#tab=summary\">Egypt</a>)\n",
      "<br/>December 16th, 2015 (Wide) (<a href=\"/movie/Star-Wars-Ep-VII-The-Force-Awakens/Finland#tab=summary\">Finland</a>)\n",
      "<br/>December 16th, 2015 (Wide) (<a href=\"/movie/Star-Wars-Ep-VII-The-Force-Awakens/France#tab=summary\">France</a>)\n",
      "<br/><a href=\"#international\">... Show all releases</a>\n",
      "</td>, <td><b><a href=\"#tab=video-sales\">Video Release:</a></b></td>, <td>April 1st, 2016 by <a href=\"/home-market/distributor/Disney-Lucasfilm\">Disney/Lucasfilm</a></td>, <td><b>MPAA Rating:</b></td>, <td><a href=\"/market/mpaa-rating/PG-13-(US)\">PG-13</a> for sci-fi action violence.<br/>(Rating bulletin 2401 (Cert #50155), 11/25/2015)</td>, <td><b>Running Time:</b></td>, <td>136 minutes</td>, <td><b>Franchise:</b></td>, <td><a href=\"/movies/franchise/Star-Wars\">Star Wars</a></td>, <td><b>Comparisons:</b></td>, <td><a href=\"/movies/comparisons/All-Time-Top-Grossing-Films\">All-Time Top-Grossing Films</a><br/><a href=\"/movies/comparisons/Blockbusters-2015\">Blockbusters, 2015</a><br/><a href=\"/movies/custom-comparisons/Star-Wars-Ep-VII-The-Force-Awakens/Avatar\">vs. Avatar</a><br/><a href=\"/movies/custom-comparisons/Star-Wars-Ep-VII-The-Force-Awakens\">Create your own comparison chart…</a></td>, <td><b>Keywords:</b></td>, <td><a href=\"/movies/keywords/Space-Opera\">Space Opera</a>, <a href=\"/movies/keywords/Good-vs-Evil\">Good vs. Evil</a>, <a href=\"/movies/keywords/Delayed-Sequel\">Delayed Sequel</a>, <a href=\"/movies/keywords/Intertitle\">Intertitle</a>, <a href=\"/movies/keywords/Robot\">Robot</a>, <a href=\"/movies/keywords/Sequels-With-Returning-Stars\">Sequels With Returning Stars</a>, <a href=\"/movies/keywords/Dysfunctional-Family\">Dysfunctional Family</a>, <a href=\"/movies/keywords/Gratuitous-Cameos\">Gratuitous Cameos</a>, <a href=\"/movies/keywords/Motion-Capture-Performance\">Motion Capture Performance</a>, <a href=\"/movies/keywords/3-D\">3-D</a>, <a href=\"/movies/keywords/3-D-Post-Production-Conversion\">3-D - Post-production Conversion</a>, <a href=\"/movies/keywords/IMAX-DMR\">IMAX: DMR</a></td>, <td><b>Source:</b></td>, <td><a href=\"/market/source/Original-Screenplay\">Original Screenplay</a></td>, <td><b>Genre:</b></td>, <td><a href=\"/market/genre/Adventure\">Adventure</a></td>, <td><b>Production Method:</b></td>, <td><a href=\"/market/production-method/Animation-and-Live-Action\">Animation/Live Action</a></td>, <td><b>Creative Type:</b></td>, <td><a href=\"/market/creative-type/Science-Fiction\">Science Fiction</a></td>, <td><b>Production Companies:</b></td>, <td><a href=\"/movies/production-company/Lucasfilm\">Lucasfilm</a>, <a href=\"/movies/production-company/Bad-Robot\">Bad Robot</a></td>, <td><b>Production Countries:</b></td>, <td><a href=\"/United-States/movies\">United States</a></td>, <td><b>Languages:</b></td>, <td><a href=\"/language/English/movies\">English</a></td>]\n",
      "'NoneType' object has no attribute 'strip'\n",
      "[<td><b>Domestic Releases:</b></td>, <td>April 26th, 2019 (Wide) by <a href=\"/market/distributor/Walt-Disney\">Walt Disney</a><br/>April 26th, 2019 (IMAX) by <a href=\"/market/distributor/Walt-Disney\">Walt Disney</a></td>, <td><b>International Releases:</b></td>, <td>April 23rd, 2019 (Limited) (<a href=\"/movie/Avengers-Endgame-(2019)/China#tab=summary\">China</a>)\n",
      "<br/>April 24th, 2019 (Wide) (<a href=\"/movie/Avengers-Endgame-(2019)/Australia#tab=summary\">Australia</a>)\n",
      "<br/>April 24th, 2019 (Wide) (<a href=\"/movie/Avengers-Endgame-(2019)/China#tab=summary\">China</a>)\n",
      "<br/>April 24th, 2019 (Wide) (<a href=\"/movie/Avengers-Endgame-(2019)/France#tab=summary\">France</a>)\n",
      "<br/>April 24th, 2019 (Wide) (<a href=\"/movie/Avengers-Endgame-(2019)/Germany#tab=summary\">Germany</a>)\n",
      "<br/><a href=\"#international\">... Show all releases</a>\n",
      "</td>, <td><b><a href=\"#tab=video-sales\">Video Release:</a></b></td>, <td>July 30th, 2019 by <a href=\"/home-market/distributor/Walt-Disney-Home-Entertainment\">Walt Disney Home Entertainment</a></td>, <td><b>MPAA Rating:</b></td>, <td><a href=\"/market/mpaa-rating/PG-13-(US)\">PG-13</a> for sequences of sci-fi violence and action, and some language.<br/>(Rating bulletin 2573 (Cert #52133), 4/10/2019)</td>, <td><b>Running Time:</b></td>, <td>181 minutes</td>, <td><b>Franchise:</b></td>, <td><a href=\"/movies/franchise/Marvel-Cinematic-Universe\">Marvel Cinematic Universe</a><br/><a href=\"/movies/franchise/Avengers\">Avengers</a></td>, <td><b>Comparisons:</b></td>, <td><a href=\"/movies/comparisons/All-Time-Top-Grossing-Films\">All-Time Top-Grossing Films</a><br/><a href=\"/movies/custom-comparisons/Avengers-Endgame-(2019)/Avengers-Infinity-War\">vs. Avengers: Infinity War</a><br/><a href=\"/movies/custom-comparisons/Avengers-Endgame-(2019)\">Create your own comparison chart…</a></td>, <td><b>Keywords:</b></td>, <td><a href=\"/movies/keywords/Ensemble\">Ensemble</a>, <a href=\"/movies/keywords/Marvel-Comics\">Marvel Comics</a>, <a href=\"/movies/keywords/Animal-Lead\">Animal Lead</a>, <a href=\"/movies/keywords/Non-Chronological\">Non-Chronological</a>, <a href=\"/movies/keywords/Super-Villains\">Super Villains</a>, <a href=\"/movies/keywords/Death-of-a-Best-Friend\">Death of a Best Friend</a>, <a href=\"/movies/keywords/Motion-Capture-Performance\">Motion Capture Performance</a>, <a href=\"/movies/keywords/3-D\">3-D</a>, <a href=\"/movies/keywords/3-D-Post-Production-Conversion\">3-D - Post-production Conversion</a>, <a href=\"/movies/keywords/IMAX-DMR\">IMAX: DMR</a></td>, <td><b>Source:</b></td>, <td><a href=\"/market/source/Based-on-Comic-or-Graphic-Novel\">Based on Comic/Graphic Novel</a></td>, <td><b>Genre:</b></td>, <td><a href=\"/market/genre/Action\">Action</a></td>, <td><b>Production Method:</b></td>, <td><a href=\"/market/production-method/Animation-and-Live-Action\">Animation/Live Action</a></td>, <td><b>Creative Type:</b></td>, <td><a href=\"/market/creative-type/Super-Hero\">Super Hero</a></td>, <td><b>Production Companies:</b></td>, <td><a href=\"/movies/production-company/Marvel-Studios\">Marvel Studios</a></td>, <td><b>Production Countries:</b></td>, <td><a href=\"/United-States/movies\">United States</a></td>, <td><b>Languages:</b></td>, <td><a href=\"/language/English/movies\">English</a></td>]\n",
      "'NoneType' object has no attribute 'strip'\n",
      "[<td><b>Domestic Releases:</b></td>, <td>December 18th, 2009 (Wide) by <a href=\"/market/distributor/20th-Century-Fox\">20th Century Fox</a><br/>December 18th, 2009 (IMAX) by <a href=\"/market/distributor/20th-Century-Fox\">20th Century Fox</a><br/>August 27th, 2010 (IMAX) by <a href=\"/market/distributor/20th-Century-Fox\">20th Century Fox</a>, released as <i>Avatar Special Edition: An IMAX 3D Experience</i></td>, <td><b>International Releases:</b></td>, <td>December 17th, 2009 (Wide) (<a href=\"/movie/Avatar/Australia#tab=summary\">Australia</a>)\n",
      "<br/>December 17th, 2009 (Wide) (<a href=\"/movie/Avatar/Russia-(CIS)#tab=summary\">Russia (CIS)</a>)\n",
      "<br/>December 17th, 2009 (Wide) (<a href=\"/movie/Avatar/South-Korea#tab=summary\">South Korea</a>)\n",
      "<br/>January 1st, 2010 (Wide) (<a href=\"/movie/Avatar/Argentina#tab=summary\">Argentina</a>)\n",
      "</td>, <td><b><a href=\"#tab=video-sales\">Video Release:</a></b></td>, <td>April 22nd, 2010 by <a href=\"/home-market/distributor/Fox-Home-Entertainment\">Fox Home Entertainment</a></td>, <td><b>MPAA Rating:</b></td>, <td><a href=\"/market/mpaa-rating/PG-13-(US)\">PG-13</a> for intense epic battle sequences and warfare, sensuality, language and some smoking.<br/>(Rating bulletin 2133, 8/11/2010)</td>, <td><b>Running Time:</b></td>, <td>162 minutes</td>, <td><b>Franchise:</b></td>, <td><a href=\"/movies/franchise/Avatar\">Avatar</a></td>, <td><b>Comparisons:</b></td>, <td><a href=\"/movies/comparisons/All-Time-Top-Grossing-Films\">All-Time Top-Grossing Films</a><br/><a href=\"/movies/comparisons/Blockbusters-2009\">Blockbusters, 2009</a><br/><a href=\"/movies/comparisons/Best-Picture-Oscar-Nominees-2010\">Best Picture Oscar Nominees, 2010</a><br/><a href=\"/movies/custom-comparisons/Avatar/Star-Wars-Ep-VII-The-Force-Awakens\">vs. Star Wars Ep. VII: The Force Awakens</a><br/><a href=\"/movies/custom-comparisons/Avatar\">Create your own comparison chart…</a></td>, <td><b>Keywords:</b></td>, <td><a href=\"/movies/keywords/3-D\">3-D</a>, <a href=\"/movies/keywords/Invented-Language\">Invented Language</a>, <a href=\"/movies/keywords/Visual-Effects\">Visual Effects</a>, <a href=\"/movies/keywords/Alien-Invasion\">Alien Invasion</a>, <a href=\"/movies/keywords/IMAX-DMR\">IMAX: DMR</a>, <a href=\"/movies/keywords/Humans-as-Aliens\">Humans as Aliens</a>, <a href=\"/movies/keywords/Language-Barrier\">Language Barrier</a>, <a href=\"/movies/keywords/2010-Oscars-Best-Picture-Nominee\">2010 Oscars Best Picture Nominee</a>, <a href=\"/movies/keywords/Romance\">Romance</a>, <a href=\"/movies/keywords/Interspecies-Romance\">Interspecies Romance</a>, <a href=\"/movies/keywords/Slow-Motion-Scene\">Slow Motion Scene</a>, <a href=\"/movies/keywords/Confined-to-a-Wheelchair\">Confined to a Wheelchair</a>, <a href=\"/movies/keywords/Voiceover-Narration\">Voiceover/Narration</a>, <a href=\"/movies/keywords/Death-of-a-Sibling\">Death of a Sibling</a>, <a href=\"/movies/keywords/Twins\">Twins</a>, <a href=\"/movies/keywords/Death-of-a-Twin\">Death of a Twin</a>, <a href=\"/movies/keywords/Genetic-Engineering\">Genetic Engineering</a>, <a href=\"/movies/keywords/3-D-Shot-in-3-D\">3-D - Shot in 3-D</a>, <a href=\"/movies/keywords/Environment\">Environment</a>, <a href=\"/movies/keywords/Motion-Capture-Performance\">Motion Capture Performance</a></td>, <td><b>Source:</b></td>, <td><a href=\"/market/source/Original-Screenplay\">Original Screenplay</a></td>, <td><b>Genre:</b></td>, <td><a href=\"/market/genre/Action\">Action</a></td>, <td><b>Production Method:</b></td>, <td><a href=\"/market/production-method/Animation-and-Live-Action\">Animation/Live Action</a></td>, <td><b>Creative Type:</b></td>, <td><a href=\"/market/creative-type/Science-Fiction\">Science Fiction</a></td>, <td><b>Production Companies:</b></td>, <td><a href=\"/movies/production-company/Dune-Entertainment\">Dune Entertainment</a>, <a href=\"/movies/production-company/20th-Century-Fox\">20th Century Fox</a>, <a href=\"/movies/production-company/Ingenious-Film-Partners\">Ingenious Film Partners</a></td>, <td><b>Production Countries:</b></td>, <td><a href=\"/United-States/movies\">United States</a></td>, <td><b>Languages:</b></td>, <td><a href=\"/language/English/movies\">English</a>, <a href=\"/language/Navi/movies\">Na'vi</a></td>]\n"
     ]
    },
    {
     "ename": "KeyboardInterrupt",
     "evalue": "",
     "output_type": "error",
     "traceback": [
      "\u001b[1;31m---------------------------------------------------------------------------\u001b[0m",
      "\u001b[1;31mKeyboardInterrupt\u001b[0m                         Traceback (most recent call last)",
      "\u001b[1;32m<ipython-input-47-b01d809e78bc>\u001b[0m in \u001b[0;36m<module>\u001b[1;34m\u001b[0m\n\u001b[0;32m    132\u001b[0m         \u001b[1;31m#return all_movie_info\u001b[0m\u001b[1;33m\u001b[0m\u001b[1;33m\u001b[0m\u001b[1;33m\u001b[0m\u001b[0m\n\u001b[0;32m    133\u001b[0m \u001b[0mall_movies\u001b[0m \u001b[1;33m=\u001b[0m \u001b[1;32mNone\u001b[0m\u001b[1;33m\u001b[0m\u001b[1;33m\u001b[0m\u001b[0m\n\u001b[1;32m--> 134\u001b[1;33m \u001b[0mall_movies\u001b[0m \u001b[1;33m=\u001b[0m \u001b[0mget_movie_details\u001b[0m\u001b[1;33m(\u001b[0m\u001b[0mlinks\u001b[0m\u001b[1;33m,\u001b[0m\u001b[1;36m1\u001b[0m\u001b[1;33m,\u001b[0m\u001b[1;32mFalse\u001b[0m\u001b[1;33m)\u001b[0m\u001b[1;33m\u001b[0m\u001b[1;33m\u001b[0m\u001b[0m\n\u001b[0m\u001b[0;32m    135\u001b[0m \u001b[1;31m#all_movies\u001b[0m\u001b[1;33m\u001b[0m\u001b[1;33m\u001b[0m\u001b[1;33m\u001b[0m\u001b[0m\n",
      "\u001b[1;32m<ipython-input-47-b01d809e78bc>\u001b[0m in \u001b[0;36mget_movie_details\u001b[1;34m(links, how_many, verbose)\u001b[0m\n\u001b[0;32m      6\u001b[0m             \u001b[0mcounter\u001b[0m \u001b[1;33m+=\u001b[0m \u001b[1;36m1\u001b[0m\u001b[1;33m\u001b[0m\u001b[1;33m\u001b[0m\u001b[0m\n\u001b[0;32m      7\u001b[0m             \u001b[0mmovie\u001b[0m \u001b[1;33m=\u001b[0m \u001b[1;33m{\u001b[0m\u001b[1;33m}\u001b[0m\u001b[1;33m\u001b[0m\u001b[1;33m\u001b[0m\u001b[0m\n\u001b[1;32m----> 8\u001b[1;33m             \u001b[0mr\u001b[0m \u001b[1;33m=\u001b[0m \u001b[0mrequests\u001b[0m\u001b[1;33m.\u001b[0m\u001b[0mget\u001b[0m\u001b[1;33m(\u001b[0m\u001b[0mlink\u001b[0m\u001b[1;33m)\u001b[0m\u001b[1;33m\u001b[0m\u001b[1;33m\u001b[0m\u001b[0m\n\u001b[0m\u001b[0;32m      9\u001b[0m             \u001b[0msoup\u001b[0m \u001b[1;33m=\u001b[0m \u001b[0mbs\u001b[0m\u001b[1;33m(\u001b[0m\u001b[0mr\u001b[0m\u001b[1;33m.\u001b[0m\u001b[0mtext\u001b[0m\u001b[1;33m)\u001b[0m\u001b[1;33m\u001b[0m\u001b[1;33m\u001b[0m\u001b[0m\n\u001b[0;32m     10\u001b[0m \u001b[1;33m\u001b[0m\u001b[0m\n",
      "\u001b[1;32mc:\\users\\adave\\src\\bbox\\venv\\lib\\site-packages\\requests\\api.py\u001b[0m in \u001b[0;36mget\u001b[1;34m(url, params, **kwargs)\u001b[0m\n\u001b[0;32m     74\u001b[0m \u001b[1;33m\u001b[0m\u001b[0m\n\u001b[0;32m     75\u001b[0m     \u001b[0mkwargs\u001b[0m\u001b[1;33m.\u001b[0m\u001b[0msetdefault\u001b[0m\u001b[1;33m(\u001b[0m\u001b[1;34m'allow_redirects'\u001b[0m\u001b[1;33m,\u001b[0m \u001b[1;32mTrue\u001b[0m\u001b[1;33m)\u001b[0m\u001b[1;33m\u001b[0m\u001b[1;33m\u001b[0m\u001b[0m\n\u001b[1;32m---> 76\u001b[1;33m     \u001b[1;32mreturn\u001b[0m \u001b[0mrequest\u001b[0m\u001b[1;33m(\u001b[0m\u001b[1;34m'get'\u001b[0m\u001b[1;33m,\u001b[0m \u001b[0murl\u001b[0m\u001b[1;33m,\u001b[0m \u001b[0mparams\u001b[0m\u001b[1;33m=\u001b[0m\u001b[0mparams\u001b[0m\u001b[1;33m,\u001b[0m \u001b[1;33m**\u001b[0m\u001b[0mkwargs\u001b[0m\u001b[1;33m)\u001b[0m\u001b[1;33m\u001b[0m\u001b[1;33m\u001b[0m\u001b[0m\n\u001b[0m\u001b[0;32m     77\u001b[0m \u001b[1;33m\u001b[0m\u001b[0m\n\u001b[0;32m     78\u001b[0m \u001b[1;33m\u001b[0m\u001b[0m\n",
      "\u001b[1;32mc:\\users\\adave\\src\\bbox\\venv\\lib\\site-packages\\requests\\api.py\u001b[0m in \u001b[0;36mrequest\u001b[1;34m(method, url, **kwargs)\u001b[0m\n\u001b[0;32m     59\u001b[0m     \u001b[1;31m# cases, and look like a memory leak in others.\u001b[0m\u001b[1;33m\u001b[0m\u001b[1;33m\u001b[0m\u001b[1;33m\u001b[0m\u001b[0m\n\u001b[0;32m     60\u001b[0m     \u001b[1;32mwith\u001b[0m \u001b[0msessions\u001b[0m\u001b[1;33m.\u001b[0m\u001b[0mSession\u001b[0m\u001b[1;33m(\u001b[0m\u001b[1;33m)\u001b[0m \u001b[1;32mas\u001b[0m \u001b[0msession\u001b[0m\u001b[1;33m:\u001b[0m\u001b[1;33m\u001b[0m\u001b[1;33m\u001b[0m\u001b[0m\n\u001b[1;32m---> 61\u001b[1;33m         \u001b[1;32mreturn\u001b[0m \u001b[0msession\u001b[0m\u001b[1;33m.\u001b[0m\u001b[0mrequest\u001b[0m\u001b[1;33m(\u001b[0m\u001b[0mmethod\u001b[0m\u001b[1;33m=\u001b[0m\u001b[0mmethod\u001b[0m\u001b[1;33m,\u001b[0m \u001b[0murl\u001b[0m\u001b[1;33m=\u001b[0m\u001b[0murl\u001b[0m\u001b[1;33m,\u001b[0m \u001b[1;33m**\u001b[0m\u001b[0mkwargs\u001b[0m\u001b[1;33m)\u001b[0m\u001b[1;33m\u001b[0m\u001b[1;33m\u001b[0m\u001b[0m\n\u001b[0m\u001b[0;32m     62\u001b[0m \u001b[1;33m\u001b[0m\u001b[0m\n\u001b[0;32m     63\u001b[0m \u001b[1;33m\u001b[0m\u001b[0m\n",
      "\u001b[1;32mc:\\users\\adave\\src\\bbox\\venv\\lib\\site-packages\\requests\\sessions.py\u001b[0m in \u001b[0;36mrequest\u001b[1;34m(self, method, url, params, data, headers, cookies, files, auth, timeout, allow_redirects, proxies, hooks, stream, verify, cert, json)\u001b[0m\n\u001b[0;32m    528\u001b[0m         }\n\u001b[0;32m    529\u001b[0m         \u001b[0msend_kwargs\u001b[0m\u001b[1;33m.\u001b[0m\u001b[0mupdate\u001b[0m\u001b[1;33m(\u001b[0m\u001b[0msettings\u001b[0m\u001b[1;33m)\u001b[0m\u001b[1;33m\u001b[0m\u001b[1;33m\u001b[0m\u001b[0m\n\u001b[1;32m--> 530\u001b[1;33m         \u001b[0mresp\u001b[0m \u001b[1;33m=\u001b[0m \u001b[0mself\u001b[0m\u001b[1;33m.\u001b[0m\u001b[0msend\u001b[0m\u001b[1;33m(\u001b[0m\u001b[0mprep\u001b[0m\u001b[1;33m,\u001b[0m \u001b[1;33m**\u001b[0m\u001b[0msend_kwargs\u001b[0m\u001b[1;33m)\u001b[0m\u001b[1;33m\u001b[0m\u001b[1;33m\u001b[0m\u001b[0m\n\u001b[0m\u001b[0;32m    531\u001b[0m \u001b[1;33m\u001b[0m\u001b[0m\n\u001b[0;32m    532\u001b[0m         \u001b[1;32mreturn\u001b[0m \u001b[0mresp\u001b[0m\u001b[1;33m\u001b[0m\u001b[1;33m\u001b[0m\u001b[0m\n",
      "\u001b[1;32mc:\\users\\adave\\src\\bbox\\venv\\lib\\site-packages\\requests\\sessions.py\u001b[0m in \u001b[0;36msend\u001b[1;34m(self, request, **kwargs)\u001b[0m\n\u001b[0;32m    681\u001b[0m \u001b[1;33m\u001b[0m\u001b[0m\n\u001b[0;32m    682\u001b[0m         \u001b[1;32mif\u001b[0m \u001b[1;32mnot\u001b[0m \u001b[0mstream\u001b[0m\u001b[1;33m:\u001b[0m\u001b[1;33m\u001b[0m\u001b[1;33m\u001b[0m\u001b[0m\n\u001b[1;32m--> 683\u001b[1;33m             \u001b[0mr\u001b[0m\u001b[1;33m.\u001b[0m\u001b[0mcontent\u001b[0m\u001b[1;33m\u001b[0m\u001b[1;33m\u001b[0m\u001b[0m\n\u001b[0m\u001b[0;32m    684\u001b[0m \u001b[1;33m\u001b[0m\u001b[0m\n\u001b[0;32m    685\u001b[0m         \u001b[1;32mreturn\u001b[0m \u001b[0mr\u001b[0m\u001b[1;33m\u001b[0m\u001b[1;33m\u001b[0m\u001b[0m\n",
      "\u001b[1;32mc:\\users\\adave\\src\\bbox\\venv\\lib\\site-packages\\requests\\models.py\u001b[0m in \u001b[0;36mcontent\u001b[1;34m(self)\u001b[0m\n\u001b[0;32m    827\u001b[0m                 \u001b[0mself\u001b[0m\u001b[1;33m.\u001b[0m\u001b[0m_content\u001b[0m \u001b[1;33m=\u001b[0m \u001b[1;32mNone\u001b[0m\u001b[1;33m\u001b[0m\u001b[1;33m\u001b[0m\u001b[0m\n\u001b[0;32m    828\u001b[0m             \u001b[1;32melse\u001b[0m\u001b[1;33m:\u001b[0m\u001b[1;33m\u001b[0m\u001b[1;33m\u001b[0m\u001b[0m\n\u001b[1;32m--> 829\u001b[1;33m                 \u001b[0mself\u001b[0m\u001b[1;33m.\u001b[0m\u001b[0m_content\u001b[0m \u001b[1;33m=\u001b[0m \u001b[1;34mb''\u001b[0m\u001b[1;33m.\u001b[0m\u001b[0mjoin\u001b[0m\u001b[1;33m(\u001b[0m\u001b[0mself\u001b[0m\u001b[1;33m.\u001b[0m\u001b[0miter_content\u001b[0m\u001b[1;33m(\u001b[0m\u001b[0mCONTENT_CHUNK_SIZE\u001b[0m\u001b[1;33m)\u001b[0m\u001b[1;33m)\u001b[0m \u001b[1;32mor\u001b[0m \u001b[1;34mb''\u001b[0m\u001b[1;33m\u001b[0m\u001b[1;33m\u001b[0m\u001b[0m\n\u001b[0m\u001b[0;32m    830\u001b[0m \u001b[1;33m\u001b[0m\u001b[0m\n\u001b[0;32m    831\u001b[0m         \u001b[0mself\u001b[0m\u001b[1;33m.\u001b[0m\u001b[0m_content_consumed\u001b[0m \u001b[1;33m=\u001b[0m \u001b[1;32mTrue\u001b[0m\u001b[1;33m\u001b[0m\u001b[1;33m\u001b[0m\u001b[0m\n",
      "\u001b[1;32mc:\\users\\adave\\src\\bbox\\venv\\lib\\site-packages\\requests\\models.py\u001b[0m in \u001b[0;36mgenerate\u001b[1;34m()\u001b[0m\n\u001b[0;32m    749\u001b[0m             \u001b[1;32mif\u001b[0m \u001b[0mhasattr\u001b[0m\u001b[1;33m(\u001b[0m\u001b[0mself\u001b[0m\u001b[1;33m.\u001b[0m\u001b[0mraw\u001b[0m\u001b[1;33m,\u001b[0m \u001b[1;34m'stream'\u001b[0m\u001b[1;33m)\u001b[0m\u001b[1;33m:\u001b[0m\u001b[1;33m\u001b[0m\u001b[1;33m\u001b[0m\u001b[0m\n\u001b[0;32m    750\u001b[0m                 \u001b[1;32mtry\u001b[0m\u001b[1;33m:\u001b[0m\u001b[1;33m\u001b[0m\u001b[1;33m\u001b[0m\u001b[0m\n\u001b[1;32m--> 751\u001b[1;33m                     \u001b[1;32mfor\u001b[0m \u001b[0mchunk\u001b[0m \u001b[1;32min\u001b[0m \u001b[0mself\u001b[0m\u001b[1;33m.\u001b[0m\u001b[0mraw\u001b[0m\u001b[1;33m.\u001b[0m\u001b[0mstream\u001b[0m\u001b[1;33m(\u001b[0m\u001b[0mchunk_size\u001b[0m\u001b[1;33m,\u001b[0m \u001b[0mdecode_content\u001b[0m\u001b[1;33m=\u001b[0m\u001b[1;32mTrue\u001b[0m\u001b[1;33m)\u001b[0m\u001b[1;33m:\u001b[0m\u001b[1;33m\u001b[0m\u001b[1;33m\u001b[0m\u001b[0m\n\u001b[0m\u001b[0;32m    752\u001b[0m                         \u001b[1;32myield\u001b[0m \u001b[0mchunk\u001b[0m\u001b[1;33m\u001b[0m\u001b[1;33m\u001b[0m\u001b[0m\n\u001b[0;32m    753\u001b[0m                 \u001b[1;32mexcept\u001b[0m \u001b[0mProtocolError\u001b[0m \u001b[1;32mas\u001b[0m \u001b[0me\u001b[0m\u001b[1;33m:\u001b[0m\u001b[1;33m\u001b[0m\u001b[1;33m\u001b[0m\u001b[0m\n",
      "\u001b[1;32mc:\\users\\adave\\src\\bbox\\venv\\lib\\site-packages\\urllib3\\response.py\u001b[0m in \u001b[0;36mstream\u001b[1;34m(self, amt, decode_content)\u001b[0m\n\u001b[0;32m    558\u001b[0m         \"\"\"\n\u001b[0;32m    559\u001b[0m         \u001b[1;32mif\u001b[0m \u001b[0mself\u001b[0m\u001b[1;33m.\u001b[0m\u001b[0mchunked\u001b[0m \u001b[1;32mand\u001b[0m \u001b[0mself\u001b[0m\u001b[1;33m.\u001b[0m\u001b[0msupports_chunked_reads\u001b[0m\u001b[1;33m(\u001b[0m\u001b[1;33m)\u001b[0m\u001b[1;33m:\u001b[0m\u001b[1;33m\u001b[0m\u001b[1;33m\u001b[0m\u001b[0m\n\u001b[1;32m--> 560\u001b[1;33m             \u001b[1;32mfor\u001b[0m \u001b[0mline\u001b[0m \u001b[1;32min\u001b[0m \u001b[0mself\u001b[0m\u001b[1;33m.\u001b[0m\u001b[0mread_chunked\u001b[0m\u001b[1;33m(\u001b[0m\u001b[0mamt\u001b[0m\u001b[1;33m,\u001b[0m \u001b[0mdecode_content\u001b[0m\u001b[1;33m=\u001b[0m\u001b[0mdecode_content\u001b[0m\u001b[1;33m)\u001b[0m\u001b[1;33m:\u001b[0m\u001b[1;33m\u001b[0m\u001b[1;33m\u001b[0m\u001b[0m\n\u001b[0m\u001b[0;32m    561\u001b[0m                 \u001b[1;32myield\u001b[0m \u001b[0mline\u001b[0m\u001b[1;33m\u001b[0m\u001b[1;33m\u001b[0m\u001b[0m\n\u001b[0;32m    562\u001b[0m         \u001b[1;32melse\u001b[0m\u001b[1;33m:\u001b[0m\u001b[1;33m\u001b[0m\u001b[1;33m\u001b[0m\u001b[0m\n",
      "\u001b[1;32mc:\\users\\adave\\src\\bbox\\venv\\lib\\site-packages\\urllib3\\response.py\u001b[0m in \u001b[0;36mread_chunked\u001b[1;34m(self, amt, decode_content)\u001b[0m\n\u001b[0;32m    753\u001b[0m                 \u001b[1;32mif\u001b[0m \u001b[0mself\u001b[0m\u001b[1;33m.\u001b[0m\u001b[0mchunk_left\u001b[0m \u001b[1;33m==\u001b[0m \u001b[1;36m0\u001b[0m\u001b[1;33m:\u001b[0m\u001b[1;33m\u001b[0m\u001b[1;33m\u001b[0m\u001b[0m\n\u001b[0;32m    754\u001b[0m                     \u001b[1;32mbreak\u001b[0m\u001b[1;33m\u001b[0m\u001b[1;33m\u001b[0m\u001b[0m\n\u001b[1;32m--> 755\u001b[1;33m                 \u001b[0mchunk\u001b[0m \u001b[1;33m=\u001b[0m \u001b[0mself\u001b[0m\u001b[1;33m.\u001b[0m\u001b[0m_handle_chunk\u001b[0m\u001b[1;33m(\u001b[0m\u001b[0mamt\u001b[0m\u001b[1;33m)\u001b[0m\u001b[1;33m\u001b[0m\u001b[1;33m\u001b[0m\u001b[0m\n\u001b[0m\u001b[0;32m    756\u001b[0m                 decoded = self._decode(\n\u001b[0;32m    757\u001b[0m                     \u001b[0mchunk\u001b[0m\u001b[1;33m,\u001b[0m \u001b[0mdecode_content\u001b[0m\u001b[1;33m=\u001b[0m\u001b[0mdecode_content\u001b[0m\u001b[1;33m,\u001b[0m \u001b[0mflush_decoder\u001b[0m\u001b[1;33m=\u001b[0m\u001b[1;32mFalse\u001b[0m\u001b[1;33m\u001b[0m\u001b[1;33m\u001b[0m\u001b[0m\n",
      "\u001b[1;32mc:\\users\\adave\\src\\bbox\\venv\\lib\\site-packages\\urllib3\\response.py\u001b[0m in \u001b[0;36m_handle_chunk\u001b[1;34m(self, amt)\u001b[0m\n\u001b[0;32m    697\u001b[0m             \u001b[0mself\u001b[0m\u001b[1;33m.\u001b[0m\u001b[0mchunk_left\u001b[0m \u001b[1;33m=\u001b[0m \u001b[1;32mNone\u001b[0m\u001b[1;33m\u001b[0m\u001b[1;33m\u001b[0m\u001b[0m\n\u001b[0;32m    698\u001b[0m         \u001b[1;32melif\u001b[0m \u001b[0mamt\u001b[0m \u001b[1;33m<\u001b[0m \u001b[0mself\u001b[0m\u001b[1;33m.\u001b[0m\u001b[0mchunk_left\u001b[0m\u001b[1;33m:\u001b[0m\u001b[1;33m\u001b[0m\u001b[1;33m\u001b[0m\u001b[0m\n\u001b[1;32m--> 699\u001b[1;33m             \u001b[0mvalue\u001b[0m \u001b[1;33m=\u001b[0m \u001b[0mself\u001b[0m\u001b[1;33m.\u001b[0m\u001b[0m_fp\u001b[0m\u001b[1;33m.\u001b[0m\u001b[0m_safe_read\u001b[0m\u001b[1;33m(\u001b[0m\u001b[0mamt\u001b[0m\u001b[1;33m)\u001b[0m\u001b[1;33m\u001b[0m\u001b[1;33m\u001b[0m\u001b[0m\n\u001b[0m\u001b[0;32m    700\u001b[0m             \u001b[0mself\u001b[0m\u001b[1;33m.\u001b[0m\u001b[0mchunk_left\u001b[0m \u001b[1;33m=\u001b[0m \u001b[0mself\u001b[0m\u001b[1;33m.\u001b[0m\u001b[0mchunk_left\u001b[0m \u001b[1;33m-\u001b[0m \u001b[0mamt\u001b[0m\u001b[1;33m\u001b[0m\u001b[1;33m\u001b[0m\u001b[0m\n\u001b[0;32m    701\u001b[0m             \u001b[0mreturned_chunk\u001b[0m \u001b[1;33m=\u001b[0m \u001b[0mvalue\u001b[0m\u001b[1;33m\u001b[0m\u001b[1;33m\u001b[0m\u001b[0m\n",
      "\u001b[1;32mc:\\users\\adave\\appdata\\local\\programs\\python\\python38-32\\lib\\http\\client.py\u001b[0m in \u001b[0;36m_safe_read\u001b[1;34m(self, amt)\u001b[0m\n\u001b[0;32m    606\u001b[0m         \u001b[0mIncompleteRead\u001b[0m \u001b[0mexception\u001b[0m \u001b[0mcan\u001b[0m \u001b[0mbe\u001b[0m \u001b[0mused\u001b[0m \u001b[0mto\u001b[0m \u001b[0mdetect\u001b[0m \u001b[0mthe\u001b[0m \u001b[0mproblem\u001b[0m\u001b[1;33m.\u001b[0m\u001b[1;33m\u001b[0m\u001b[1;33m\u001b[0m\u001b[0m\n\u001b[0;32m    607\u001b[0m         \"\"\"\n\u001b[1;32m--> 608\u001b[1;33m         \u001b[0mdata\u001b[0m \u001b[1;33m=\u001b[0m \u001b[0mself\u001b[0m\u001b[1;33m.\u001b[0m\u001b[0mfp\u001b[0m\u001b[1;33m.\u001b[0m\u001b[0mread\u001b[0m\u001b[1;33m(\u001b[0m\u001b[0mamt\u001b[0m\u001b[1;33m)\u001b[0m\u001b[1;33m\u001b[0m\u001b[1;33m\u001b[0m\u001b[0m\n\u001b[0m\u001b[0;32m    609\u001b[0m         \u001b[1;32mif\u001b[0m \u001b[0mlen\u001b[0m\u001b[1;33m(\u001b[0m\u001b[0mdata\u001b[0m\u001b[1;33m)\u001b[0m \u001b[1;33m<\u001b[0m \u001b[0mamt\u001b[0m\u001b[1;33m:\u001b[0m\u001b[1;33m\u001b[0m\u001b[1;33m\u001b[0m\u001b[0m\n\u001b[0;32m    610\u001b[0m             \u001b[1;32mraise\u001b[0m \u001b[0mIncompleteRead\u001b[0m\u001b[1;33m(\u001b[0m\u001b[0mdata\u001b[0m\u001b[1;33m,\u001b[0m \u001b[0mamt\u001b[0m\u001b[1;33m-\u001b[0m\u001b[0mlen\u001b[0m\u001b[1;33m(\u001b[0m\u001b[0mdata\u001b[0m\u001b[1;33m)\u001b[0m\u001b[1;33m)\u001b[0m\u001b[1;33m\u001b[0m\u001b[1;33m\u001b[0m\u001b[0m\n",
      "\u001b[1;32mc:\\users\\adave\\appdata\\local\\programs\\python\\python38-32\\lib\\socket.py\u001b[0m in \u001b[0;36mreadinto\u001b[1;34m(self, b)\u001b[0m\n\u001b[0;32m    667\u001b[0m         \u001b[1;32mwhile\u001b[0m \u001b[1;32mTrue\u001b[0m\u001b[1;33m:\u001b[0m\u001b[1;33m\u001b[0m\u001b[1;33m\u001b[0m\u001b[0m\n\u001b[0;32m    668\u001b[0m             \u001b[1;32mtry\u001b[0m\u001b[1;33m:\u001b[0m\u001b[1;33m\u001b[0m\u001b[1;33m\u001b[0m\u001b[0m\n\u001b[1;32m--> 669\u001b[1;33m                 \u001b[1;32mreturn\u001b[0m \u001b[0mself\u001b[0m\u001b[1;33m.\u001b[0m\u001b[0m_sock\u001b[0m\u001b[1;33m.\u001b[0m\u001b[0mrecv_into\u001b[0m\u001b[1;33m(\u001b[0m\u001b[0mb\u001b[0m\u001b[1;33m)\u001b[0m\u001b[1;33m\u001b[0m\u001b[1;33m\u001b[0m\u001b[0m\n\u001b[0m\u001b[0;32m    670\u001b[0m             \u001b[1;32mexcept\u001b[0m \u001b[0mtimeout\u001b[0m\u001b[1;33m:\u001b[0m\u001b[1;33m\u001b[0m\u001b[1;33m\u001b[0m\u001b[0m\n\u001b[0;32m    671\u001b[0m                 \u001b[0mself\u001b[0m\u001b[1;33m.\u001b[0m\u001b[0m_timeout_occurred\u001b[0m \u001b[1;33m=\u001b[0m \u001b[1;32mTrue\u001b[0m\u001b[1;33m\u001b[0m\u001b[1;33m\u001b[0m\u001b[0m\n",
      "\u001b[1;32mc:\\users\\adave\\appdata\\local\\programs\\python\\python38-32\\lib\\ssl.py\u001b[0m in \u001b[0;36mrecv_into\u001b[1;34m(self, buffer, nbytes, flags)\u001b[0m\n\u001b[0;32m   1239\u001b[0m                   \u001b[1;34m\"non-zero flags not allowed in calls to recv_into() on %s\"\u001b[0m \u001b[1;33m%\u001b[0m\u001b[1;33m\u001b[0m\u001b[1;33m\u001b[0m\u001b[0m\n\u001b[0;32m   1240\u001b[0m                   self.__class__)\n\u001b[1;32m-> 1241\u001b[1;33m             \u001b[1;32mreturn\u001b[0m \u001b[0mself\u001b[0m\u001b[1;33m.\u001b[0m\u001b[0mread\u001b[0m\u001b[1;33m(\u001b[0m\u001b[0mnbytes\u001b[0m\u001b[1;33m,\u001b[0m \u001b[0mbuffer\u001b[0m\u001b[1;33m)\u001b[0m\u001b[1;33m\u001b[0m\u001b[1;33m\u001b[0m\u001b[0m\n\u001b[0m\u001b[0;32m   1242\u001b[0m         \u001b[1;32melse\u001b[0m\u001b[1;33m:\u001b[0m\u001b[1;33m\u001b[0m\u001b[1;33m\u001b[0m\u001b[0m\n\u001b[0;32m   1243\u001b[0m             \u001b[1;32mreturn\u001b[0m \u001b[0msuper\u001b[0m\u001b[1;33m(\u001b[0m\u001b[1;33m)\u001b[0m\u001b[1;33m.\u001b[0m\u001b[0mrecv_into\u001b[0m\u001b[1;33m(\u001b[0m\u001b[0mbuffer\u001b[0m\u001b[1;33m,\u001b[0m \u001b[0mnbytes\u001b[0m\u001b[1;33m,\u001b[0m \u001b[0mflags\u001b[0m\u001b[1;33m)\u001b[0m\u001b[1;33m\u001b[0m\u001b[1;33m\u001b[0m\u001b[0m\n",
      "\u001b[1;32mc:\\users\\adave\\appdata\\local\\programs\\python\\python38-32\\lib\\ssl.py\u001b[0m in \u001b[0;36mread\u001b[1;34m(self, len, buffer)\u001b[0m\n\u001b[0;32m   1097\u001b[0m         \u001b[1;32mtry\u001b[0m\u001b[1;33m:\u001b[0m\u001b[1;33m\u001b[0m\u001b[1;33m\u001b[0m\u001b[0m\n\u001b[0;32m   1098\u001b[0m             \u001b[1;32mif\u001b[0m \u001b[0mbuffer\u001b[0m \u001b[1;32mis\u001b[0m \u001b[1;32mnot\u001b[0m \u001b[1;32mNone\u001b[0m\u001b[1;33m:\u001b[0m\u001b[1;33m\u001b[0m\u001b[1;33m\u001b[0m\u001b[0m\n\u001b[1;32m-> 1099\u001b[1;33m                 \u001b[1;32mreturn\u001b[0m \u001b[0mself\u001b[0m\u001b[1;33m.\u001b[0m\u001b[0m_sslobj\u001b[0m\u001b[1;33m.\u001b[0m\u001b[0mread\u001b[0m\u001b[1;33m(\u001b[0m\u001b[0mlen\u001b[0m\u001b[1;33m,\u001b[0m \u001b[0mbuffer\u001b[0m\u001b[1;33m)\u001b[0m\u001b[1;33m\u001b[0m\u001b[1;33m\u001b[0m\u001b[0m\n\u001b[0m\u001b[0;32m   1100\u001b[0m             \u001b[1;32melse\u001b[0m\u001b[1;33m:\u001b[0m\u001b[1;33m\u001b[0m\u001b[1;33m\u001b[0m\u001b[0m\n\u001b[0;32m   1101\u001b[0m                 \u001b[1;32mreturn\u001b[0m \u001b[0mself\u001b[0m\u001b[1;33m.\u001b[0m\u001b[0m_sslobj\u001b[0m\u001b[1;33m.\u001b[0m\u001b[0mread\u001b[0m\u001b[1;33m(\u001b[0m\u001b[0mlen\u001b[0m\u001b[1;33m)\u001b[0m\u001b[1;33m\u001b[0m\u001b[1;33m\u001b[0m\u001b[0m\n",
      "\u001b[1;31mKeyboardInterrupt\u001b[0m: "
     ]
    }
   ],
   "source": [
    "def get_movie_details(links,how_many = 100, verbose=False):\n",
    "    counter = 0\n",
    "    all_movie_info = []\n",
    "    for link in links:\n",
    "        try:\n",
    "            counter += 1\n",
    "            movie = {}\n",
    "            r = requests.get(link)\n",
    "            soup = bs(r.text)\n",
    "            \n",
    "            movie = {\n",
    "                    \"Domestic Box Office\": 0, \n",
    "                    \"International Box Office\": 0,\n",
    "                    \"Worldwide Box Office\": 0,\n",
    "                    \"Opening Weekend:\": 0,\n",
    "                    \"Legs:\": 0,\n",
    "                    \"Production Budget:\": 0,\n",
    "                    \"Theater counts:\": 0,\n",
    "                    \"MPAA Rating:\": \"\",\n",
    "                    \"Running Time:\": \"\",\n",
    "                    \"Franchise:\": \"\",\n",
    "                    \"Genre:\" : \"\",\n",
    "                    \"Production Method:\": \"\",\n",
    "                    \"Creative Type:\": \"\",\n",
    "                    \"Production Companies:\": \"\"\n",
    "                    }\n",
    "\n",
    "            all_tables = soup.find_all(\"table\")\n",
    "\n",
    "            #title and year \n",
    "            name_area = soup.find(\"h1\", itemprop=\"name\")\n",
    "            name_s = name_area.string\n",
    "            name_year = name_s.strip(\"()\").split('(')\n",
    "            name = name_year[0]\n",
    "            year = name_year[1]\n",
    "            \n",
    "            #all box office\n",
    "            stats_table = all_tables[0]\n",
    "            stats_table_data = stats_table.findAll(\"td\")\n",
    "            for index, rows in enumerate(stats_table_data):\n",
    "                label = rows.string\n",
    "                if label in movie:\n",
    "                    movie[label] = stats_table_data[index+1].string.replace(\"$\",\"\").replace(\",\",\"\")\n",
    "\n",
    "            #opening weekend and budget\n",
    "            label = None\n",
    "            metric_table = all_tables[2]\n",
    "            metric_table_data = metric_table.findAll(\"td\")\n",
    "            for index, rows in enumerate(metric_table_data):\n",
    "                label = rows.string.strip().replace(u'\\xa0', u' ')\n",
    "                if label in [\"Opening Weekend:\", \"Production Budget:\"]:\n",
    "                    movie[label] = metric_table_data[index + 1].string.split(\" \")[0].replace(\"$\",\"\").replace(\",\",\"\")\n",
    "                        \n",
    "                if label in [\"Legs:\"]:\n",
    "                    movie[label] = metric_table_data[index + 1].string.split(\" \")[0]\n",
    "                        \n",
    "                if label in [\"Theater counts:\"]:\n",
    "                    pre_count = metric_table_data[index + 1].string.split(\", \")[1]\n",
    "                    movie[label] = pre_count.split(\" w\")[0]\n",
    "            \n",
    "            #runtime, distributor,mpaa, production method, creative type, production companies, and genre\n",
    "            details_table = all_tables[4]\n",
    "            details_table_data = details_table.findAll(\"td\")\n",
    "            for index, rows in enumerate(details_table_data):\n",
    "                label = rows.string.strip().replace(u'\\xa0', u' ')\n",
    "                if label in [\"Running Time:\"]:\n",
    "                    print (\"hedhddhdh\")\n",
    "                    movie[label] = details_table_data[index + 1].string.split(\" \")[0]\n",
    "                    \n",
    "            #print (movie)\n",
    "            break\n",
    "            \n",
    "            #synopsis\n",
    "            synopsis_section = soup.find(\"div\", {\"id\": \"summary\"})\n",
    "            synopsis_p = synopsis_section.find(\"p\")\n",
    "            synopsis_u = (synopsis_p).encode(encoding = \"UTF-8\")\n",
    "            synopsis_u = str(synopsis_u)\n",
    "            synopsis = synopsis_u[5:].split(\"<\")[0].replace(\"\\\\xc3\\\\xa2\\\\xc2\\\\x80\\\\xc2\\\\x99\", \"'\").replace(\"\\\\xc3\\\\xa2\\\\xc2\\\\x80\\\\xc2\\\\x94\", \"--\").replace(\"\\\\xc3\\\\xa2\\\\xc2\\\\x80\\\\xc2\\\\xa6\", \"...\").replace(\"\\\\xc3\\\\xa2\\\\xc2\\\\x80\\\\xc2\\\\x9c\", \"'\").replace(\"\\\\xc3\\\\xa2\\\\xc2\\\\x80\\\\xc2\\\\x9d\", \"'\").replace(\"\\\\xc3\\\\x83\\\\xc2\\\\xa9\", \"é\").replace(\"\\\\n\", \"\").replace(\"\\\\\", \"\").strip(\"\\\\n\")\n",
    "\n",
    "           \n",
    "\n",
    "            movie [\"name\"] = name\n",
    "            movie [\"year\"] = year\n",
    "            movie[\"runtime\"] = runtime\n",
    "            movie [\"distributors\"] = distributors\n",
    "            movie [\"mpaa_rating\"] = mpaa_rating\n",
    "            movie [\"genre\"] = genre\n",
    "            movie [\"legs\"] = legs\n",
    "            movie[\"average_run\"] = average_run\n",
    "            movie [\"opening_weekend\"] = opening_weekend\n",
    "            movie [\"domestic_box_office\"] = domestic_box_office\n",
    "            movie [\"international_box_office\"] = international_box_office\n",
    "            movie [\"worldwide_box_office\"] = worldwide_box_office\n",
    "            movie [\"synopsis\"] = synopsis\n",
    "            movie[\"link\"] = link\n",
    "            movie[\"production_method\"] = production_method\n",
    "            movie[\"creative_type\"] = creative_type\n",
    "\n",
    "            all_movie_info.append(movie)\n",
    "            \n",
    "            if verbose:\n",
    "                if runtime:\n",
    "                    print(\"Runtime: \" + runtime)\n",
    "                print (name)\n",
    "                print (year)\n",
    "                print (\"Domestic: \" + domestic_box_office)\n",
    "                print (\"International: \" + international_box_office)\n",
    "                print (\"Worldwide: \" + worldwide_box_office)\n",
    "                print(\"Opening weekend: \" + opening_weekend)\n",
    "                print (\"Legs: \" + legs)\n",
    "                print (\"Budget: \" + budget)\n",
    "                print (\"Average run: \" + average_run + \" weeks\")\n",
    "                print (\"Mpaa: \" + mpaa_rating)\n",
    "                print (\"Genre: \" + genre)\n",
    "                print (\"Production method: \" + production_method)\n",
    "                print (\"Creative type: \" + creative_type)\n",
    "                print (\"Distributors: \" + distributors)\n",
    "                print(\"Synopsis: \" + synopsis)\n",
    "                print (\"----------------------------------------------------------------------------------------------------------------------------\")\n",
    "\n",
    "            if counter >= how_many:\n",
    "                break\n",
    "                \n",
    "            sleep(0.5)\n",
    "            \n",
    "        except Exception as ex:\n",
    "            print(ex)\n",
    "            print(details_table_data)\n",
    "\n",
    "            \n",
    "        \n",
    "        #return all_movie_info\n",
    "all_movies = None\n",
    "all_movies = get_movie_details(links,1,False)\n",
    "#all_movies"
   ]
  },
  {
   "cell_type": "code",
   "execution_count": 26,
   "metadata": {},
   "outputs": [
    {
     "data": {
      "text/plain": [
       "32"
      ]
     },
     "execution_count": 26,
     "metadata": {},
     "output_type": "execute_result"
    }
   ],
   "source": [
    "ord(\"Opening Weekend:\"[7:8])"
   ]
  },
  {
   "cell_type": "code",
   "execution_count": 126,
   "metadata": {},
   "outputs": [
    {
     "ename": "AttributeError",
     "evalue": "'NoneType' object has no attribute 'to_csv'",
     "output_type": "error",
     "traceback": [
      "\u001b[1;31m---------------------------------------------------------------------------\u001b[0m",
      "\u001b[1;31mAttributeError\u001b[0m                            Traceback (most recent call last)",
      "\u001b[1;32m<ipython-input-126-380532a3578e>\u001b[0m in \u001b[0;36m<module>\u001b[1;34m\u001b[0m\n\u001b[1;32m----> 1\u001b[1;33m \u001b[0mall_movies\u001b[0m\u001b[1;33m.\u001b[0m\u001b[0mto_csv\u001b[0m\u001b[1;33m(\u001b[0m\u001b[1;34m'C:/Users/adave/src/bbox/mdata/thenum/4-7-20/movie_details.csv'\u001b[0m\u001b[1;33m,\u001b[0m \u001b[0mindex\u001b[0m\u001b[1;33m=\u001b[0m\u001b[1;32mFalse\u001b[0m\u001b[1;33m)\u001b[0m\u001b[1;33m\u001b[0m\u001b[1;33m\u001b[0m\u001b[0m\n\u001b[0m",
      "\u001b[1;31mAttributeError\u001b[0m: 'NoneType' object has no attribute 'to_csv'"
     ]
    }
   ],
   "source": [
    "all_movies.to_csv('C:/Users/adave/src/bbox/mdata/thenum/4-7-20/movie_details.csv', index=False)"
   ]
  },
  {
   "cell_type": "code",
   "execution_count": 86,
   "metadata": {},
   "outputs": [],
   "source": [
    "cols_to_num = ['legs', 'average_run', 'opening_weekend', 'domestic_box_office', 'international_box_office',\n",
    "               'worldwide_box_office'\n",
    "              ]\n",
    "for c in cols_to_num:\n",
    "    all_movies[c] = pd.to_numeric(all_movies[c])"
   ]
  },
  {
   "cell_type": "code",
   "execution_count": 152,
   "metadata": {},
   "outputs": [
    {
     "ename": "SyntaxError",
     "evalue": "invalid syntax (<ipython-input-152-58b7f48d972f>, line 4)",
     "output_type": "error",
     "traceback": [
      "\u001b[1;36m  File \u001b[1;32m\"<ipython-input-152-58b7f48d972f>\"\u001b[1;36m, line \u001b[1;32m4\u001b[0m\n\u001b[1;33m    if val of td1 in cols:\u001b[0m\n\u001b[1;37m           ^\u001b[0m\n\u001b[1;31mSyntaxError\u001b[0m\u001b[1;31m:\u001b[0m invalid syntax\n"
     ]
    }
   ],
   "source": [
    "cols = ['MPAA Rating','Running Time']\n",
    "movie_data = {}\n",
    "for row in details_table_data:\n",
    "    if val of td1 in cols:\n",
    "        # movie_data[td1 value] = td2 value"
   ]
  },
  {
   "cell_type": "code",
   "execution_count": null,
   "metadata": {},
   "outputs": [],
   "source": []
  }
 ],
 "metadata": {
  "kernelspec": {
   "display_name": "Python 3",
   "language": "python",
   "name": "python3"
  },
  "language_info": {
   "codemirror_mode": {
    "name": "ipython",
    "version": 3
   },
   "file_extension": ".py",
   "mimetype": "text/x-python",
   "name": "python",
   "nbconvert_exporter": "python",
   "pygments_lexer": "ipython3",
   "version": "3.8.2"
  }
 },
 "nbformat": 4,
 "nbformat_minor": 4
}
