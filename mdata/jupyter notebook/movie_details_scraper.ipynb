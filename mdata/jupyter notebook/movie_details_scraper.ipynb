{
 "cells": [
  {
   "cell_type": "code",
   "execution_count": 62,
   "metadata": {},
   "outputs": [],
   "source": [
    "# Import section\n",
    "import requests\n",
    "import pandas as pd\n",
    "import urllib\n",
    "import re\n",
    "import locale\n",
    "from bs4 import BeautifulSoup as bs\n",
    "from time import sleep\n",
    "pd.set_option('display.float_format', lambda x: '%.2f' % x)"
   ]
  },
  {
   "cell_type": "code",
   "execution_count": 63,
   "metadata": {},
   "outputs": [],
   "source": [
    "# Constants\n",
    "URL = \"./../thenum/top_level_movies.csv\"\n",
    "MOVIE_ATTRIBUTES = {\n",
    "                    \"domestic_box_office\", \"international_box_office\", \"worldwide_box_office\",\n",
    "                    \"opening_weekend\", \"legs\", \"production_budget\", \"theater_counts\", \"mpaa_rating\",\n",
    "                    \"running_time\", \"franchise\", \"genre\", \"production_method\", \"creative_type\",\n",
    "                    \"production_companies\"\n",
    "                    }"
   ]
  },
  {
   "cell_type": "code",
   "execution_count": 64,
   "metadata": {},
   "outputs": [],
   "source": [
    "def preprocess_label(label):\n",
    "    \"\"\"\n",
    "    This function will convert label into lower case, combine separate words with an '_' and remove all\n",
    "    white spaces and other charaters from both the ends.\n",
    "    \"\"\"\n",
    "    \n",
    "    label = label.lower()\n",
    "    label = re.sub(\"[^A-Za-z0-9\\s]\", \"\", label)\n",
    "    label = re.sub(\"\\s{2,}\", \" \", label)\n",
    "    label = label.strip()\n",
    "    label = re.sub(\"\\s\", \"_\", label)\n",
    "    return label"
   ]
  },
  {
   "cell_type": "code",
   "execution_count": 73,
   "metadata": {
    "scrolled": false
   },
   "outputs": [],
   "source": [
    "def get_movie_details(links, MOVIE_ATTRIBUTES, verbose=False):\n",
    "    all_movies_info = []\n",
    "    for link in links:\n",
    "        try:\n",
    "            r = requests.get(link)\n",
    "            soup = bs(r.text)\n",
    "            \n",
    "            movie = {}\n",
    "\n",
    "            all_tables = soup.find_all(\"table\")\n",
    "\n",
    "            # Getting title and year \n",
    "            name_area = soup.find(\"h1\", itemprop=\"name\")\n",
    "            name_s = name_area.string\n",
    "            name_year = name_s.strip(\"()\").split('(')\n",
    "            movie[\"name\"] = name_year[0]\n",
    "            movie[\"year\"] = name_year[1]\n",
    "            \n",
    "            # All box office\n",
    "            stats_table = all_tables[0]\n",
    "            stats_table_data = stats_table.findAll(\"td\")\n",
    "            for index, row in enumerate(stats_table_data):\n",
    "                data = row.string\n",
    "                if data:\n",
    "                    label = preprocess_label(data)\n",
    "                    if label in MOVIE_ATTRIBUTES:\n",
    "                        movie[label] = stats_table_data[index+1].string.replace(\"$\",\"\").replace(\",\",\"\")\n",
    "\n",
    "            # Opening weekend and budget\n",
    "            metric_table = all_tables[2]\n",
    "            metric_table_data = metric_table.findAll(\"td\")\n",
    "            for index, row in enumerate(metric_table_data):\n",
    "                data = row.string\n",
    "                if data:\n",
    "                    label = preprocess_label(data)\n",
    "                    if label in {\"opening_weekend\", \"production_budget\"}:\n",
    "                        movie[label] = metric_table_data[index + 1].string.split(\" \")[0].replace(\"$\",\"\").replace(\",\",\"\")\n",
    "\n",
    "                    if label in {\"legs\"}:\n",
    "                        movie[label] = metric_table_data[index + 1].string.split(\" \")[0]\n",
    "\n",
    "                    if label in {\"theater_counts\"}:\n",
    "                        pre_count = metric_table_data[index + 1].string.split(\", \")[1]\n",
    "                        movie[label] = pre_count.split(\" w\")[0]\n",
    "            \n",
    "            # Runtime, distributor,mpaa, production method, creative type, production companies, and genre\n",
    "            details_table = all_tables[4]\n",
    "            details_table_data = details_table.findAll(\"td\")\n",
    "            for index, row in enumerate(details_table_data):\n",
    "                data = row.string\n",
    "                if data:\n",
    "                    label = preprocess_label(data)\n",
    "                    if label in {\"running_time\"}:\n",
    "                        movie[label] = details_table_data[index + 1].string.split(\" \")[0]\n",
    "            \n",
    "            # Synopsis\n",
    "            synopsis_section = soup.find(\"div\", {\"id\": \"summary\"})\n",
    "            synopsis_p = synopsis_section.find(\"p\")\n",
    "            synopsis_u = (synopsis_p).encode(encoding = \"UTF-8\")\n",
    "            synopsis_u = str(synopsis_u)\n",
    "            # synopsis = synopsis_u[5:].split(\"<\")[0].replace(\"\\\\xc3\\\\xa2\\\\xc2\\\\x80\\\\xc2\\\\x99\", \"'\").replace(\"\\\\xc3\\\\xa2\\\\xc2\\\\x80\\\\xc2\\\\x94\", \"--\").replace(\"\\\\xc3\\\\xa2\\\\xc2\\\\x80\\\\xc2\\\\xa6\", \"...\").replace(\"\\\\xc3\\\\xa2\\\\xc2\\\\x80\\\\xc2\\\\x9c\", \"'\").replace(\"\\\\xc3\\\\xa2\\\\xc2\\\\x80\\\\xc2\\\\x9d\", \"'\").replace(\"\\\\xc3\\\\x83\\\\xc2\\\\xa9\", \"é\").replace(\"\\\\n\", \"\").replace(\"\\\\\", \"\").strip(\"\\\\n\")\n",
    "\n",
    "            all_movies_info.append(movie)\n",
    "            \n",
    "            if verbose:\n",
    "                print(movie)\n",
    "                \n",
    "        except Exception as ex:\n",
    "            print(ex)\n",
    "            \n",
    "    return all_movies_info"
   ]
  },
  {
   "cell_type": "code",
   "execution_count": 74,
   "metadata": {},
   "outputs": [
    {
     "name": "stdout",
     "output_type": "stream",
     "text": [
      "{'domestic_box_office': '936662225', 'international_box_office': '1131561399', 'worldwide_box_office': '2068223624', 'opening_weekend': '247966675', 'legs': '3.78', 'production_budget': '306000000', 'theater_counts': '9.2', 'running_time': '136'}\n"
     ]
    }
   ],
   "source": [
    "top_level_data = pd.read_csv(URL)\n",
    "titles = top_level_data[\"title\"]\n",
    "links = top_level_data[\"link\"]\n",
    "all_movies = get_movie_details(links, MOVIE_ATTRIBUTES, False)"
   ]
  },
  {
   "cell_type": "code",
   "execution_count": null,
   "metadata": {},
   "outputs": [],
   "source": [
    "all_movies.to_csv('C:/Users/adave/src/bbox/mdata/thenum/4-7-20/movie_details.csv', index=False)"
   ]
  },
  {
   "cell_type": "code",
   "execution_count": 86,
   "metadata": {},
   "outputs": [],
   "source": [
    "cols_to_num = ['legs', 'average_run', 'opening_weekend', 'domestic_box_office', 'international_box_office',\n",
    "               'worldwide_box_office'\n",
    "              ]\n",
    "for c in cols_to_num:\n",
    "    all_movies[c] = pd.to_numeric(all_movies[c])"
   ]
  },
  {
   "cell_type": "code",
   "execution_count": 152,
   "metadata": {},
   "outputs": [
    {
     "ename": "SyntaxError",
     "evalue": "invalid syntax (<ipython-input-152-58b7f48d972f>, line 4)",
     "output_type": "error",
     "traceback": [
      "\u001b[1;36m  File \u001b[1;32m\"<ipython-input-152-58b7f48d972f>\"\u001b[1;36m, line \u001b[1;32m4\u001b[0m\n\u001b[1;33m    if val of td1 in cols:\u001b[0m\n\u001b[1;37m           ^\u001b[0m\n\u001b[1;31mSyntaxError\u001b[0m\u001b[1;31m:\u001b[0m invalid syntax\n"
     ]
    }
   ],
   "source": [
    "cols = ['MPAA Rating','Running Time']\n",
    "movie_data = {}\n",
    "for row in details_table_data:\n",
    "    if val of td1 in cols:\n",
    "        # movie_data[td1 value] = td2 value"
   ]
  },
  {
   "cell_type": "code",
   "execution_count": null,
   "metadata": {},
   "outputs": [],
   "source": []
  }
 ],
 "metadata": {
  "kernelspec": {
   "display_name": "Python 3",
   "language": "python",
   "name": "python3"
  },
  "language_info": {
   "codemirror_mode": {
    "name": "ipython",
    "version": 3
   },
   "file_extension": ".py",
   "mimetype": "text/x-python",
   "name": "python",
   "nbconvert_exporter": "python",
   "pygments_lexer": "ipython3",
   "version": "3.6.9"
  }
 },
 "nbformat": 4,
 "nbformat_minor": 4
}
