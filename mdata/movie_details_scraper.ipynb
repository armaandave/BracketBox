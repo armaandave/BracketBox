{
 "cells": [
  {
   "cell_type": "code",
   "execution_count": 485,
   "metadata": {},
   "outputs": [],
   "source": [
    "import requests\n",
    "from bs4 import BeautifulSoup as bs\n",
    "import csv\n",
    "import pandas as pd\n",
    "import urllib\n",
    "import re\n",
    "\n",
    "top_level_data = pd.read_csv(\"C:\\\\Users\\\\adave\\\\src\\\\bbox\\\\mdata\\\\thenum\\\\4-7-20\\\\movie_details.csv\")\n",
    "titles = top_level_data[\"title\"]\n",
    "links = top_level_data[\"link\"]"
   ]
  },
  {
   "cell_type": "code",
   "execution_count": 490,
   "metadata": {},
   "outputs": [
    {
     "ename": "AttributeError",
     "evalue": "'str' object has no attribute 'decode'",
     "output_type": "error",
     "traceback": [
      "\u001b[1;31m---------------------------------------------------------------------------\u001b[0m",
      "\u001b[1;31mAttributeError\u001b[0m                            Traceback (most recent call last)",
      "\u001b[1;32m<ipython-input-490-ac8149dd1a5f>\u001b[0m in \u001b[0;36m<module>\u001b[1;34m\u001b[0m\n\u001b[0;32m      2\u001b[0m     \u001b[0mrow_num\u001b[0m \u001b[1;33m=\u001b[0m \u001b[1;36m61\u001b[0m\u001b[1;33m\u001b[0m\u001b[1;33m\u001b[0m\u001b[0m\n\u001b[0;32m      3\u001b[0m     \u001b[0mr\u001b[0m \u001b[1;33m=\u001b[0m \u001b[0mrequests\u001b[0m\u001b[1;33m.\u001b[0m\u001b[0mget\u001b[0m\u001b[1;33m(\u001b[0m\u001b[0mlinks\u001b[0m\u001b[1;33m[\u001b[0m\u001b[0mrow_num\u001b[0m\u001b[1;33m]\u001b[0m\u001b[1;33m)\u001b[0m\u001b[1;33m\u001b[0m\u001b[1;33m\u001b[0m\u001b[0m\n\u001b[1;32m----> 4\u001b[1;33m     \u001b[0msoup\u001b[0m \u001b[1;33m=\u001b[0m \u001b[0mbs\u001b[0m\u001b[1;33m(\u001b[0m\u001b[0mr\u001b[0m\u001b[1;33m.\u001b[0m\u001b[0mtext\u001b[0m\u001b[1;33m.\u001b[0m\u001b[0mdecode\u001b[0m\u001b[1;33m(\u001b[0m\u001b[1;34m\"utf-8\"\u001b[0m\u001b[1;33m,\u001b[0m \u001b[1;34m\"ignore\"\u001b[0m\u001b[1;33m)\u001b[0m\u001b[1;33m,\u001b[0m \u001b[1;34m'html.parser'\u001b[0m\u001b[1;33m)\u001b[0m\u001b[1;33m\u001b[0m\u001b[1;33m\u001b[0m\u001b[0m\n\u001b[0m\u001b[0;32m      5\u001b[0m     \u001b[0mprint\u001b[0m \u001b[1;33m(\u001b[0m\u001b[0mlinks\u001b[0m\u001b[1;33m[\u001b[0m\u001b[0mrow_num\u001b[0m\u001b[1;33m]\u001b[0m\u001b[1;33m)\u001b[0m\u001b[1;33m\u001b[0m\u001b[1;33m\u001b[0m\u001b[0m\n\u001b[0;32m      6\u001b[0m     \u001b[1;32mbreak\u001b[0m\u001b[1;33m\u001b[0m\u001b[1;33m\u001b[0m\u001b[0m\n",
      "\u001b[1;31mAttributeError\u001b[0m: 'str' object has no attribute 'decode'"
     ]
    }
   ],
   "source": [
    "for link in links:\n",
    "    row_num = 61\n",
    "    r = requests.get(links[row_num])\n",
    "    soup = bs(r.text)\n",
    "    print (links[row_num])\n",
    "    break"
   ]
  },
  {
   "cell_type": "code",
   "execution_count": 503,
   "metadata": {},
   "outputs": [
    {
     "name": "stdout",
     "output_type": "stream",
     "text": [
      "Joker (2019)\n",
      " \n",
      "$335,451,311\n",
      "$738,792,258\n",
      "$1,074,243,569\n",
      " \n",
      "$96,202,337\n",
      "$55,000,000\n",
      " \n",
      "R\n",
      "122 minutes\n",
      "Thriller/Suspense\n",
      "Village Roadshow Productions | Warner Bros. | Bron Creative | Joint Effort\n",
      " \n",
      "Arthur Fleck, is of a man struggling to find his way in Gotham's fractured society. A clown-for-hire by day, he aspires to be a stand-up comic at night...but finds the joke always seems to be on him. Caught in a cyclical existence between apathy and cruelty, Arthur makes one bad decision that brings about a chain reaction of escalating events in this gritty character study.\n"
     ]
    }
   ],
   "source": [
    "all_tables = soup.find_all(\"table\")\n",
    "\n",
    "#title and year \n",
    "name = soup.find(\"h1\", itemprop=\"name\")\n",
    "print (name.string)\n",
    "\n",
    "print (\" \")\n",
    "\n",
    "#all box office\n",
    "stats_table = all_tables[0]\n",
    "stats_table_data = stats_table.findAll(\"td\", {\"class\": \"data\"})\n",
    "for index, rows in enumerate(stats_table_data):\n",
    "    if index > 2:\n",
    "        break\n",
    "    print (rows.string)\n",
    "\n",
    "print (\" \")\n",
    "\n",
    "#opening weekend and budget\n",
    "metric_table = all_tables[2]\n",
    "metric_table_data = metric_table.findAll(\"td\")\n",
    "for index, rows in enumerate(metric_table_data):\n",
    "    if index%2!=0:\n",
    "        if index == 1 or index ==7:\n",
    "            print(rows.string.split(\" \")[0])\n",
    "            \n",
    "print (\" \")\n",
    "\n",
    "#runtime, distributor and genre\n",
    "details_table = all_tables[4]\n",
    "details_table_data = details_table.findAll(\"td\")\n",
    "for index, rows in enumerate(details_table_data):\n",
    "    if index > 5:\n",
    "        if index == 9 or index == 19:\n",
    "            print (rows.string)\n",
    "        if index == 7:\n",
    "            mpaa_rating = rows.find(\"a\")\n",
    "            if mpaa_rating:\n",
    "                print (mpaa_rating.string)\n",
    "        if index == 25:\n",
    "            production_companies = rows.findAll(\"a\")\n",
    "            clist = ' | '.join([c.string for c in production_companies])\n",
    "            print (clist)\n",
    "                \n",
    "print (\" \")\n",
    "\n",
    "#synopsis\n",
    "synopsis_section = soup.find(\"div\", {\"id\": \"summary\"})\n",
    "synopsis_p = synopsis_section.find(\"p\")\n",
    "synopsis_u = (synopsis_p).encode(encoding = \"UTF-8\")\n",
    "synopsis_u = str(synopsis_u)\n",
    "synopsis = synopsis_u[5:].split(\"<\")[0].replace(\"\\\\xc3\\\\xa2\\\\xc2\\\\x80\\\\xc2\\\\x99\", \"'\").replace(\"\\\\xc3\\\\xa2\\\\xc2\\\\x80\\\\xc2\\\\x94\", \"--\").replace(\"\\\\xc3\\\\xa2\\\\xc2\\\\x80\\\\xc2\\\\xa6\", \"...\").strip(\"\\\\n\")\n",
    "print(synopsis)"
   ]
  }
 ],
 "metadata": {
  "kernelspec": {
   "display_name": "Python 3",
   "language": "python",
   "name": "python3"
  },
  "language_info": {
   "codemirror_mode": {
    "name": "ipython",
    "version": 3
   },
   "file_extension": ".py",
   "mimetype": "text/x-python",
   "name": "python",
   "nbconvert_exporter": "python",
   "pygments_lexer": "ipython3",
   "version": "3.8.2"
  }
 },
 "nbformat": 4,
 "nbformat_minor": 4
}
