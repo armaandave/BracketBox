{
 "cells": [
  {
   "cell_type": "code",
   "execution_count": 56,
   "metadata": {},
   "outputs": [],
   "source": [
    "# imports\n",
    "import requests\n",
    "import pandas as pd\n",
    "import urllib\n",
    "import re\n",
    "import locale\n",
    "from bs4 import BeautifulSoup as bs\n",
    "from time import sleep\n",
    "pd.set_option('display.float_format', lambda x: '%.2f' % x)\n",
    "from tqdm.notebook import tqdm"
   ]
  },
  {
   "cell_type": "code",
   "execution_count": 57,
   "metadata": {},
   "outputs": [],
   "source": [
    "# Constants\n",
    "URL = \"./../mdata/thenum/top_level_movies.csv\"\n",
    "MOVIE_ATTRIBUTES = {\n",
    "                    \"domestic_box_office\", \"international_box_office\", \"worldwide_box_office\",\n",
    "                    \"opening_weekend\", \"legs\", \"production_budget\", \"theater_counts\", \"mpaa_rating\",\n",
    "                    \"running_time\", \"franchise\", \"genre\", \"production_method\", \"creative_type\",\n",
    "                    \"production_companies\"\n",
    "                    }"
   ]
  },
  {
   "cell_type": "code",
   "execution_count": 58,
   "metadata": {},
   "outputs": [],
   "source": [
    "replace_chars = [\n",
    "    (\"\\\\xc3\\\\x83\\\\xc2\\\\xa9\", \"é\"),\n",
    "    (\"\\\\xc3\\\\xa2\\\\xc2\\\\x80\\\\xc2\\\\xa6\", \"...\"),\n",
    "    (\"\\\\xc3\\\\xa2\\\\xc2\\\\x80\\\\xc2\\\\x9c\", \"'\"),\n",
    "    (\"\\\\xc3\\\\xa2\\\\xc2\\\\x80\\\\xc2\\\\x9d\", \"'\"),\n",
    "    (\"\\\\n\", \"\"),\n",
    "    (\"\\\\\", \"\"),\n",
    "    (\"\\xc2\\\\x94\", \"--\"),\n",
    "    ('â\\x80\\x99', \"'\"),\n",
    "    (\"xc3xa2xc2x80xc2x99\", \"'\"),   \n",
    "    (\"xc3xa2xc2x80xc2x94\", \"—\")\n",
    "    \n",
    "]\n",
    "\n",
    "def preprocess_label(label):\n",
    "    \"\"\"\n",
    "    This function will convert label into lower case, combine separate words with an '_' and remove all\n",
    "    white spaces and other charaters from both the ends.\n",
    "    \"\"\"\n",
    "    \n",
    "    label = label.lower()\n",
    "    label = re.sub(\"[^A-Za-z0-9\\s]\", \"\", label)\n",
    "    label = re.sub(\"\\s{2,}\", \" \", label)\n",
    "    label = label.strip()\n",
    "    label = re.sub(\"\\s\", \"_\", label)\n",
    "    return label"
   ]
  },
  {
   "cell_type": "code",
   "execution_count": 59,
   "metadata": {
    "scrolled": false
   },
   "outputs": [],
   "source": [
    "def get_movie_details(links, MOVIE_ATTRIBUTES, verbose=False):\n",
    "    all_movies_info = []\n",
    "    for link in tqdm(links):\n",
    "        try:\n",
    "            r = requests.get(link)\n",
    "            soup = bs(r.text)\n",
    "            \n",
    "            movie = {}\n",
    "\n",
    "            all_tables = soup.find_all(\"table\")\n",
    "\n",
    "            # Getting title and year \n",
    "            main_area = soup.find(\"div\", {\"id\": \"main\"})\n",
    "            name_area = main_area.find(\"h1\")\n",
    "            name_s = name_area.string\n",
    "            name_year = name_s.split(\"(\")[-1].strip(')')\n",
    "            name_x = \"(\" + name_year + \")\"\n",
    "            name = name_s.replace(name_x, \"\")\n",
    "            movie[\"name\"] = name.strip()\n",
    "            for rc in replace_chars:\n",
    "                movie[\"name\"] = movie[\"name\"].replace(rc[0], rc[1])\n",
    "            movie[\"name\"] = movie[\"name\"]\n",
    "\n",
    "            movie[\"year\"] = name_year\n",
    "            \n",
    "            # All box office\n",
    "            stats_table = all_tables[0]\n",
    "            stats_table_data = stats_table.findAll(\"td\")\n",
    "            for index, row in enumerate(stats_table_data):\n",
    "                data = row.string\n",
    "                if data:\n",
    "                    label = preprocess_label(data)\n",
    "                    if label in MOVIE_ATTRIBUTES:\n",
    "                        movie[label] = stats_table_data[index+1].string.replace(\"$\",\"\").replace(\",\",\"\")\n",
    "\n",
    "            # Opening weekend and budget\n",
    "            metric_table = all_tables[2]\n",
    "            metric_table_data = metric_table.findAll(\"td\")\n",
    "            for index, row in enumerate(metric_table_data):\n",
    "                data = row.string\n",
    "                if data:\n",
    "                    label = preprocess_label(data)\n",
    "                    if label in {\"opening_weekend\", \"production_budget\"}:\n",
    "                        movie[label] = metric_table_data[index + 1].string.split(\" \")[0].replace(\"$\",\"\").replace(\",\",\"\")\n",
    "\n",
    "                    if label in {\"legs\"}:\n",
    "                        movie[label] = metric_table_data[index + 1].string.split(\" \")[0]\n",
    "\n",
    "                    if label in {\"theater_counts\"}:\n",
    "                        pre_count = metric_table_data[index + 1].string.split(\", \")[1]\n",
    "                        movie[label] = pre_count.split(\" w\")[0]\n",
    "            \n",
    "            # Runtime, distributor, mpaa, production method, creative type, production companies, and genre\n",
    "            details_table = all_tables[5]\n",
    "            details_table_data = details_table.findAll(\"td\")\n",
    "            for index, row in enumerate(details_table_data):\n",
    "                data = row.string\n",
    "                if data:\n",
    "                    label = preprocess_label(data)\n",
    "                    if label in {\"running_time\"}:\n",
    "                        movie[label] = details_table_data[index + 1].string.split(\" \")[0]\n",
    "                        \n",
    "                    if label in {\"genre\"}:\n",
    "                        movie[label] = details_table_data[index + 1].string.split(\" \")[0]\n",
    "                    \n",
    "                    if label in {\"creative_type\"}:\n",
    "                        movie[label] = details_table_data[index + 1].string\n",
    "                        \n",
    "                    if label in {\"production_method\"}:\n",
    "                        movie[label] = details_table_data[index + 1].string\n",
    "                    \n",
    "                    if label in {\"mpaa_rating\"}:\n",
    "                        movie[label] = details_table_data[index + 1].find(\"a\").string\n",
    "                    \n",
    "                    if label in {\"production_companies\"}:\n",
    "                        movie[label] = details_table_data[index + 1].find(\"a\").string\n",
    "            \n",
    "            # Synopsis\n",
    "            synopsis_section = soup.find(\"div\", {\"id\": \"summary\"})\n",
    "            synopsis = synopsis_section.find(\"p\")\n",
    "            if synopsis:\n",
    "                synopsis_u = str(synopsis.encode(encoding = \"UTF-8\"))\n",
    "                synopsis_u = synopsis_u[5:].split(\"<\")[0]\n",
    "                for rc in replace_chars:\n",
    "                    synopsis_u = synopsis_u.replace(rc[0], rc[1])\n",
    "                movie[\"synopsis\"] = synopsis_u\n",
    "            movie['link'] = link\n",
    "            all_movies_info.append(movie)\n",
    "            \n",
    "            if verbose:\n",
    "                print(movie)\n",
    "                \n",
    "        except Exception as ex:\n",
    "            print(ex, movie, link)\n",
    "            break\n",
    "            \n",
    "    return all_movies_info"
   ]
  },
  {
   "cell_type": "code",
   "execution_count": 60,
   "metadata": {},
   "outputs": [
    {
     "data": {
      "application/vnd.jupyter.widget-view+json": {
       "model_id": "ed7bc6f856204510be26b613234db52a",
       "version_major": 2,
       "version_minor": 0
      },
      "text/plain": [
       "HBox(children=(FloatProgress(value=0.0, max=1000.0), HTML(value='')))"
      ]
     },
     "metadata": {},
     "output_type": "display_data"
    },
    {
     "name": "stdout",
     "output_type": "stream",
     "text": [
      "\n"
     ]
    }
   ],
   "source": [
    "top_level_data = pd.read_csv(URL)\n",
    "titles = top_level_data[\"title\"]\n",
    "links = top_level_data[\"link\"]\n",
    "all_movies = get_movie_details(links, MOVIE_ATTRIBUTES, False)"
   ]
  },
  {
   "cell_type": "code",
   "execution_count": 61,
   "metadata": {
    "scrolled": false
   },
   "outputs": [],
   "source": [
    "pd.options.display.max_seq_items = 2000\n",
    "cols_to_num = ['theater_counts', 'opening_weekend', 'domestic_box_office', 'international_box_office',\n",
    "               'worldwide_box_office', 'production_budget', 'year', 'legs'\n",
    "              ]\n",
    "df = pd.DataFrame(all_movies)\n",
    "\n",
    "#get rid of commas in legs\n",
    "for x in df[\"legs\"]:\n",
    "    df[\"legs\"] = x.replace(\",\", \"\")\n",
    "\n",
    "#turn desired cols to numbers\n",
    "for c in cols_to_num:\n",
    "    df[c] = pd.to_numeric(df[c])"
   ]
  },
  {
   "cell_type": "code",
   "execution_count": 62,
   "metadata": {},
   "outputs": [],
   "source": [
    "df.to_csv('/Users/armaan/src/bbox/mdata/thenum/movie_details.csv', index=False)"
   ]
  },
  {
   "cell_type": "code",
   "execution_count": null,
   "metadata": {},
   "outputs": [],
   "source": []
  }
 ],
 "metadata": {
  "kernelspec": {
   "display_name": "Python 3",
   "language": "python",
   "name": "python3"
  },
  "language_info": {
   "codemirror_mode": {
    "name": "ipython",
    "version": 3
   },
   "file_extension": ".py",
   "mimetype": "text/x-python",
   "name": "python",
   "nbconvert_exporter": "python",
   "pygments_lexer": "ipython3",
   "version": "3.7.7"
  }
 },
 "nbformat": 4,
 "nbformat_minor": 4
}
