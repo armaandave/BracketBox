{
 "cells": [
  {
   "cell_type": "code",
   "execution_count": 469,
   "metadata": {},
   "outputs": [],
   "source": [
    "#imports\n",
    "import pandas as pd \n",
    "from slugify import slugify\n",
    "import requests\n",
    "from tqdm.notebook import tqdm\n",
    "from time import sleep\n",
    "from bs4 import BeautifulSoup as bs\n",
    "import json\n",
    "from datetime import datetime\n",
    "import webbrowser\n",
    "from tqdm.notebook import tqdm"
   ]
  },
  {
   "cell_type": "code",
   "execution_count": 470,
   "metadata": {},
   "outputs": [],
   "source": [
    "#getting both csv files \n",
    "movie_details = pd.read_csv('/Users/armaan/src/bbox/mdata/thenum/movie_details.csv') \n",
    "imdb_movies = pd.read_csv('/Users/armaan/src/bbox/mdata/imdb/imdb_movies.csv') \n",
    "#converting names to lower and some cols to int\n",
    "movie_details['name_lower'] = movie_details['name'].str.lower()\n",
    "imdb_movies['year'] = pd.to_numeric(imdb_movies.startYear, errors='coerce')\n",
    "imdb_movies['primaryTitle_lower'] = imdb_movies['primaryTitle'].str.lower()\n",
    "imdb_movies['runtimeMinutes'] = pd.to_numeric(imdb_movies.runtimeMinutes, errors='coerce')"
   ]
  },
  {
   "cell_type": "code",
   "execution_count": 471,
   "metadata": {},
   "outputs": [],
   "source": [
    "#normalization\n",
    "def normalize(x):\n",
    "    if x:\n",
    "        #for star wars\n",
    "        x = x.replace('-ep-', '-episode-')\n",
    "        #for harry potter\n",
    "        x = x.replace('part-ii', 'part-2')\n",
    "        x = x.replace('part-i', 'part-1')\n",
    "        #for e.t. only!\n",
    "        if x.startswith('et-'):\n",
    "            x = x.replace('et-', 'e-t-')\n",
    "        #for rise of skywalker only!\n",
    "        if x == 'star-wars-the-rise-of-skywalker':\n",
    "            x = \"star-wars-episode-ix-the-rise-of-skywalker\"\n",
    "    return x\n",
    "\n",
    "#find duplicates\n",
    "def duplicate_scraper(imdb_id):\n",
    "    r = requests.get(\"https://www.imdb.com/title/{}/\".format(imdb_id))\n",
    "    soup = bs(r.text)\n",
    "    if soup.find(\"h3\",{\"class\": \"subheading\"}).string == \"Box Office\":\n",
    "        drop = False\n",
    "    else:\n",
    "        drop = True \n",
    "    return drop"
   ]
  },
  {
   "cell_type": "code",
   "execution_count": 472,
   "metadata": {},
   "outputs": [],
   "source": [
    "#sluggifying and normalizing all names\n",
    "movie_details['name_slug'] = movie_details.name_lower.apply(slugify)\n",
    "imdb_movies['name_slug'] = imdb_movies.primaryTitle_lower.apply(slugify)\n",
    "movie_details['name_slug'] = movie_details.name_slug.apply(normalize)\n",
    "#creating new df with updated values\n",
    "new_df = pd.merge(movie_details, imdb_movies, how ='inner', right_on = ['name_slug', 'year'], left_on = ['name_slug', 'year'])"
   ]
  },
  {
   "cell_type": "code",
   "execution_count": 473,
   "metadata": {},
   "outputs": [
    {
     "data": {
      "application/vnd.jupyter.widget-view+json": {
       "model_id": "62451d5a4ecc4ce8907410d3a73679ce",
       "version_major": 2,
       "version_minor": 0
      },
      "text/plain": [
       "HBox(children=(FloatProgress(value=1.0, bar_style='info', max=1.0), HTML(value='')))"
      ]
     },
     "metadata": {},
     "output_type": "display_data"
    },
    {
     "name": "stdout",
     "output_type": "stream",
     "text": [
      "\n"
     ]
    }
   ],
   "source": [
    "#find duplicates and get rid of them\n",
    "duplicates = new_df[new_df.name.duplicated()]\n",
    "for index, row in tqdm(duplicates.iterrows()):\n",
    "    match = new_df[(new_df['name'] == row[\"name\"]) & (new_df['year'] == row[\"year\"])]\n",
    "    if len(match) > 1:\n",
    "        imdb_ids = match[\"tconst\"]\n",
    "        for imdb_id in imdb_ids:\n",
    "            drop = duplicate_scraper(imdb_id)\n",
    "            if drop == True:\n",
    "                new_df.drop( new_df[ new_df['tconst'] == imdb_id ].index , inplace=True)"
   ]
  },
  {
   "cell_type": "code",
   "execution_count": 474,
   "metadata": {},
   "outputs": [],
   "source": [
    "#drops\n",
    "new_df.drop([\"endYear\", \"isAdult\", \"titleType\", \"startYear\", \"primaryTitle_lower\", \"runtimeMinutes\", \"genres\", \"name_lower\", \"name_slug\", \"primaryTitle\", \"originalTitle\"], axis=1, inplace = True)"
   ]
  },
  {
   "cell_type": "code",
   "execution_count": 475,
   "metadata": {},
   "outputs": [
    {
     "data": {
      "application/vnd.jupyter.widget-view+json": {
       "model_id": "91e63c789998443aa35cdfcd3b1c62a1",
       "version_major": 2,
       "version_minor": 0
      },
      "text/plain": [
       "HBox(children=(FloatProgress(value=0.0), HTML(value='')))"
      ]
     },
     "metadata": {},
     "output_type": "display_data"
    },
    {
     "name": "stdout",
     "output_type": "stream",
     "text": [
      "\n"
     ]
    }
   ],
   "source": [
    "#get poster path and add it to new col in df\n",
    "poster_link_list = []\n",
    "for p in tqdm(new_df['tconst']):\n",
    "    tmdb = requests.get(\"https://api.themoviedb.org/3/movie/{}?api_key=a6837e56522d89b354d01b07e393bebc&language=en-US\".format(p))\n",
    "    poster_path = tmdb.json()['poster_path']\n",
    "    poster_link = \"https://image.tmdb.org/t/p/w300_and_h450_bestv2/{}\".format(poster_path)\n",
    "    poster_link_list.append(poster_link)\n",
    "\n",
    "new_df[\"poster_path\"] = poster_link_list"
   ]
  },
  {
   "cell_type": "code",
   "execution_count": 476,
   "metadata": {
    "scrolled": true
   },
   "outputs": [],
   "source": [
    "#downloads df to csv\n",
    "new_df.to_csv('/Users/armaan/src/bbox/mdata/master_table.csv', index=False)"
   ]
  }
 ],
 "metadata": {
  "kernelspec": {
   "display_name": "Python 3",
   "language": "python",
   "name": "python3"
  },
  "language_info": {
   "codemirror_mode": {
    "name": "ipython",
    "version": 3
   },
   "file_extension": ".py",
   "mimetype": "text/x-python",
   "name": "python",
   "nbconvert_exporter": "python",
   "pygments_lexer": "ipython3",
   "version": "3.7.7"
  }
 },
 "nbformat": 4,
 "nbformat_minor": 4
}
