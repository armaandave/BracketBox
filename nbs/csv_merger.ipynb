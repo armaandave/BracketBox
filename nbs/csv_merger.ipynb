{
 "cells": [
  {
   "cell_type": "code",
   "execution_count": 243,
   "metadata": {},
   "outputs": [],
   "source": [
    "#imports\n",
    "import pandas as pd \n",
    "from pandas import DataFrame\n",
    "from slugify import slugify\n",
    "import requests\n",
    "from tqdm.notebook import tqdm\n",
    "from time import sleep\n",
    "from bs4 import BeautifulSoup as bs\n",
    "import json\n",
    "from datetime import datetime\n",
    "import webbrowser\n",
    "pd.set_option('display.float_format', lambda x: '%.2f' % x)\n",
    "import matplotlib.pyplot as plt\n",
    "plt.style.use('classic')\n",
    "%matplotlib inline\n",
    "import numpy as np\n",
    "from time import sleep"
   ]
  },
  {
   "cell_type": "code",
   "execution_count": 244,
   "metadata": {},
   "outputs": [
    {
     "name": "stderr",
     "output_type": "stream",
     "text": [
      "/usr/local/lib/python3.7/site-packages/IPython/core/interactiveshell.py:3063: DtypeWarning: Columns (5) have mixed types.Specify dtype option on import or set low_memory=False.\n",
      "  interactivity=interactivity, compiler=compiler, result=result)\n"
     ]
    }
   ],
   "source": [
    "#getting both csv files \n",
    "movie_details = pd.read_csv('/Users/armaan/src/bbox/mdata/thenum/movie_details.csv') \n",
    "imdb_movies = pd.read_csv('/Users/armaan/src/bbox/mdata/imdb/imdb_movies.csv') \n",
    "#converting names to lower and some cols to int\n",
    "movie_details['name_lower'] = movie_details['name'].str.lower()\n",
    "imdb_movies['year'] = pd.to_numeric(imdb_movies.startYear, errors='coerce')\n",
    "imdb_movies['primaryTitle_lower'] = imdb_movies['primaryTitle'].str.lower()\n",
    "imdb_movies['runtimeMinutes'] = pd.to_numeric(imdb_movies.runtimeMinutes, errors='coerce')"
   ]
  },
  {
   "cell_type": "code",
   "execution_count": 245,
   "metadata": {},
   "outputs": [],
   "source": [
    "#normalization\n",
    "def normalize(x):\n",
    "    if x:\n",
    "        #for star wars\n",
    "        x = x.replace('-ep-', '-episode-')\n",
    "        #for harry potter\n",
    "        x = x.replace('part-ii', 'part-2')\n",
    "        x = x.replace('part-i', 'part-1')\n",
    "        #for e.t. only!\n",
    "        if x.startswith('et-'):\n",
    "            x = x.replace('et-', 'e-t-')\n",
    "        #for rise of skywalker only!\n",
    "        if x == 'star-wars-the-rise-of-skywalker':\n",
    "            x = \"star-wars-episode-ix-the-rise-of-skywalker\"\n",
    "    return x\n",
    "\n",
    "#find duplicates\n",
    "def duplicate_scraper(imdb_id):\n",
    "    r = requests.get(\"https://www.imdb.com/title/{}/\".format(imdb_id))\n",
    "    soup = bs(r.text)\n",
    "    box_office = soup.find(\"div\",{\"id\": \"titleDetails\"})\n",
    "    all_h4 = box_office.findAll(\"h4\")\n",
    "    drop = True\n",
    "    for h4 in all_h4:\n",
    "        if h4.string == \"Gross USA:\":\n",
    "            drop = False\n",
    "            break\n",
    "    return drop"
   ]
  },
  {
   "cell_type": "code",
   "execution_count": 246,
   "metadata": {},
   "outputs": [],
   "source": [
    "#sluggifying and normalizing all names\n",
    "movie_details['name_slug'] = movie_details.name_lower.apply(slugify)\n",
    "imdb_movies['name_slug'] = imdb_movies.primaryTitle_lower.apply(slugify)\n",
    "movie_details['name_slug'] = movie_details.name_slug.apply(normalize)\n",
    "#creating new df with updated values\n",
    "new_df = pd.merge(movie_details, imdb_movies, how ='inner', right_on = ['name_slug', 'year'], left_on = ['name_slug', 'year'])"
   ]
  },
  {
   "cell_type": "code",
   "execution_count": 247,
   "metadata": {
    "scrolled": true
   },
   "outputs": [
    {
     "data": {
      "application/vnd.jupyter.widget-view+json": {
       "model_id": "a80e181981cb4ecc853deae01ea7501d",
       "version_major": 2,
       "version_minor": 0
      },
      "text/plain": [
       "HBox(children=(FloatProgress(value=1.0, bar_style='info', max=1.0), HTML(value='')))"
      ]
     },
     "metadata": {},
     "output_type": "display_data"
    },
    {
     "name": "stdout",
     "output_type": "stream",
     "text": [
      "\n"
     ]
    }
   ],
   "source": [
    "#find duplicates and get rid of them\n",
    "duplicates = new_df[new_df.name.duplicated()]\n",
    "for index, row in tqdm(duplicates.iterrows()):\n",
    "    match = new_df[(new_df['name'] == row[\"name\"]) & (new_df['year'] == row[\"year\"])]\n",
    "    if len(match) > 1:\n",
    "        imdb_ids = match[\"tconst\"]\n",
    "        for imdb_id in imdb_ids:\n",
    "            drop = duplicate_scraper(imdb_id)\n",
    "            if drop == True:\n",
    "                new_df.drop( new_df[ new_df['tconst'] == imdb_id ].index , inplace=True)"
   ]
  },
  {
   "cell_type": "code",
   "execution_count": 248,
   "metadata": {},
   "outputs": [],
   "source": [
    "#drops\n",
    "new_df[new_df.tconst != 'tt11861230']\n",
    "new_df.drop([\"endYear\", \"isAdult\", \"titleType\", \"startYear\", \"primaryTitle_lower\", \"runtimeMinutes\", \"genres\", \"name_lower\", \"primaryTitle\", \"originalTitle\"], axis=1, inplace = True)"
   ]
  },
  {
   "cell_type": "code",
   "execution_count": 249,
   "metadata": {},
   "outputs": [],
   "source": [
    "#drop movies with missing information\n",
    "new_df\n",
    "new_df2 = new_df.dropna(subset=['domestic_box_office', 'international_box_office', 'worldwide_box_office', 'production_budget', 'opening_weekend'])\n",
    "new_df = new_df2"
   ]
  },
  {
   "cell_type": "code",
   "execution_count": 250,
   "metadata": {
    "scrolled": true
   },
   "outputs": [
    {
     "data": {
      "application/vnd.jupyter.widget-view+json": {
       "model_id": "58352181db1945f4b131cdf3421dfde8",
       "version_major": 2,
       "version_minor": 0
      },
      "text/plain": [
       "HBox(children=(FloatProgress(value=0.0, max=843.0), HTML(value='')))"
      ]
     },
     "metadata": {},
     "output_type": "display_data"
    },
    {
     "name": "stdout",
     "output_type": "stream",
     "text": [
      "\n"
     ]
    }
   ],
   "source": [
    "#get poster path and add it to new col in df\n",
    "poster_link_list = []\n",
    "for p in tqdm(new_df['tconst']):\n",
    "    tmdb = requests.get(\"https://api.themoviedb.org/3/movie/{}?api_key=a6837e56522d89b354d01b07e393bebc&language=en-US\".format(p))\n",
    "    try:\n",
    "        poster_path = tmdb.json()['poster_path']\n",
    "        poster_link = \"https://image.tmdb.org/t/p/w300_and_h450_bestv2/{}\".format(poster_path)\n",
    "    except:\n",
    "        if p:\n",
    "            print (\"no poster for \" + p)\n",
    "    poster_link_list.append(poster_link)\n",
    "\n",
    "new_df[\"poster_path\"] = poster_link_list"
   ]
  },
  {
   "cell_type": "code",
   "execution_count": 251,
   "metadata": {},
   "outputs": [
    {
     "data": {
      "application/vnd.jupyter.widget-view+json": {
       "model_id": "52ecbd20cdf94038882cb79aa27ad257",
       "version_major": 2,
       "version_minor": 0
      },
      "text/plain": [
       "HBox(children=(FloatProgress(value=0.0, max=843.0), HTML(value='')))"
      ]
     },
     "metadata": {},
     "output_type": "display_data"
    },
    {
     "name": "stdout",
     "output_type": "stream",
     "text": [
      "'release_date'\n",
      "'release_date'\n",
      "'release_date'\n",
      "'release_date'\n",
      "'release_date'\n",
      "'release_date'\n",
      "invalid literal for int() with base 10: ''\n",
      "'release_date'\n",
      "invalid literal for int() with base 10: ''\n",
      "\n"
     ]
    }
   ],
   "source": [
    "#get similar movies\n",
    "def get_matching_similar(df_movies, simlist, how_many=5):\n",
    "    matching_movies = []\n",
    "    result_cnt = min(len(simlist), how_many)\n",
    "    for s in simlist:\n",
    "        try:\n",
    "            title = s['title']\n",
    "            release = int(s['release_date'][:4])\n",
    "            if len(df_movies[(df_movies.name == title) & (df_movies.year == release)]) == 1:\n",
    "                poster_path = new_df.loc[new_df['name'] == title, 'poster_path'].values[0]\n",
    "                name = new_df.loc[new_df['name'] == title, 'name'].values[0]\n",
    "                movie_link = \"{}^{}\".format(title, release)\n",
    "                matching_movies.append({'name': name, 'link': movie_link, 'poster' : poster_path})\n",
    "                \n",
    "                if len(matching_movies) >= how_many:\n",
    "                    break\n",
    "        except Exception as ex:\n",
    "            print(ex)\n",
    "\n",
    "            \n",
    "    return matching_movies\n",
    "\n",
    "\n",
    "similar_movies_list = []\n",
    "x = 0\n",
    "for t in tqdm(new_df['tconst']):\n",
    "    turl = \"https://api.themoviedb.org/3/movie/{}/similar?api_key=a6837e56522d89b354d01b07e393bebc&language=en-US&page=1\".format(t)\n",
    "    tmdb = requests.get(turl)\n",
    "    if 'results' in tmdb.json():\n",
    "        sim_list = tmdb.json()['results']\n",
    "    else:\n",
    "        sim_list = []\n",
    "    similar_movies_list.append(get_matching_similar(new_df, sim_list, how_many=5))\n",
    "#     x = x+1\n",
    "#     if x > 3:\n",
    "#         break\n",
    "        \n",
    "new_df[\"similar_movies\"] = similar_movies_list"
   ]
  },
  {
   "cell_type": "code",
   "execution_count": 252,
   "metadata": {},
   "outputs": [
    {
     "data": {
      "application/vnd.jupyter.widget-view+json": {
       "model_id": "eacf4f8cf2aa4c3594e02bfb2eddf92f",
       "version_major": 2,
       "version_minor": 0
      },
      "text/plain": [
       "HBox(children=(FloatProgress(value=0.0, max=843.0), HTML(value='')))"
      ]
     },
     "metadata": {},
     "output_type": "display_data"
    },
    {
     "name": "stdout",
     "output_type": "stream",
     "text": [
      "\n"
     ]
    }
   ],
   "source": [
    "#scrape for imdb score\n",
    "imdb_scores = []\n",
    "x = 0\n",
    "for t in tqdm(new_df['tconst']):\n",
    "    r = requests.get(\"https://www.imdb.com/title/{}/\".format(t))\n",
    "    soup = bs(r.text)\n",
    "    score_section = soup.find(\"span\", {\"itemprop\": \"ratingValue\"})\n",
    "    score = score_section.string\n",
    "    imdb_scores.append(score)\n",
    "#     x = x+1\n",
    "#     if x > 3:\n",
    "#         break\n",
    "     \n",
    "new_df[\"imdb_score\"] = imdb_scores"
   ]
  },
  {
   "cell_type": "code",
   "execution_count": 253,
   "metadata": {},
   "outputs": [
    {
     "data": {
      "application/vnd.jupyter.widget-view+json": {
       "model_id": "0c973c4e37a24d86b723863c4fa957fc",
       "version_major": 2,
       "version_minor": 0
      },
      "text/plain": [
       "HBox(children=(FloatProgress(value=0.0, max=843.0), HTML(value='')))"
      ]
     },
     "metadata": {},
     "output_type": "display_data"
    },
    {
     "name": "stdout",
     "output_type": "stream",
     "text": [
      "\n"
     ]
    }
   ],
   "source": [
    "#get metascore (next use - july26)\n",
    "# meta_scores = []\n",
    "# x = 0\n",
    "# for t in tqdm(new_df['tconst']):\n",
    "#     url = \"http://www.omdbapi.com/?apikey=581c8a90&i={}\".format(t)\n",
    "#     omdb = requests.get(url)\n",
    "#     info = omdb.json()\n",
    "#     if info['Metascore']:\n",
    "#         meta_score = info['Metascore']\n",
    "#     else:\n",
    "#         meta_score = \"N/A\"\n",
    "#     meta_scores.append(meta_score)\n",
    "# #     x = x+1\n",
    "# #     if x > 3:\n",
    "# #         break\n",
    "\n",
    "\n",
    "# new_df[\"meta_score\"] = meta_scores"
   ]
  },
  {
   "cell_type": "code",
   "execution_count": 257,
   "metadata": {},
   "outputs": [],
   "source": [
    "#make score\n",
    "bbox_df = new_df2\n",
    "\n",
    "bbox_df['bb_profit'] = bbox_df.worldwide_box_office - bbox_df.production_budget\n",
    "bbox_df['bb_profit_multiple'] = bbox_df.worldwide_box_office/bbox_df.worldwide_box_office\n",
    "\n",
    "bbox_df['bb_profit_score'] = (bbox_df.bb_profit / bbox_df.bb_profit.max()) * 100\n",
    "bbox_df['bb_profit_multiple_score'] = (bbox_df.bb_profit_multiple / bbox_df.bb_profit_multiple.max()) * 100\n",
    "\n",
    "bbox_df['bb_score'] = (bbox_df['bb_profit_score']*0.7 + bbox_df['bb_profit_multiple_score']*0.3)"
   ]
  },
  {
   "cell_type": "code",
   "execution_count": 258,
   "metadata": {
    "scrolled": true
   },
   "outputs": [],
   "source": [
    "#downloads df to csv\n",
    "bbox_df = bbox_df[~bbox_df.worldwide_box_office.isnull()]\n",
    "bbox_df.to_csv('/Users/armaan/src/bbox/mdata/final_result/master_table.csv', index=False)"
   ]
  }
 ],
 "metadata": {
  "kernelspec": {
   "display_name": "Python 3",
   "language": "python",
   "name": "python3"
  },
  "language_info": {
   "codemirror_mode": {
    "name": "ipython",
    "version": 3
   },
   "file_extension": ".py",
   "mimetype": "text/x-python",
   "name": "python",
   "nbconvert_exporter": "python",
   "pygments_lexer": "ipython3",
   "version": "3.7.7"
  }
 },
 "nbformat": 4,
 "nbformat_minor": 4
}
