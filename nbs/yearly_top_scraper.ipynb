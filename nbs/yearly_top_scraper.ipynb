{
 "cells": [
  {
   "cell_type": "code",
   "execution_count": 82,
   "metadata": {},
   "outputs": [],
   "source": [
    "#imports\n",
    "import requests\n",
    "from bs4 import BeautifulSoup as bs\n",
    "from tqdm.notebook import tqdm\n",
    "import pandas as pd\n",
    "from datetime import date"
   ]
  },
  {
   "cell_type": "code",
   "execution_count": 83,
   "metadata": {},
   "outputs": [
    {
     "data": {
      "application/vnd.jupyter.widget-view+json": {
       "model_id": "7d8d94ef11eb410d93d9012d0deaf300",
       "version_major": 2,
       "version_minor": 0
      },
      "text/plain": [
       "HBox(children=(FloatProgress(value=0.0, max=46.0), HTML(value='')))"
      ]
     },
     "metadata": {},
     "output_type": "display_data"
    },
    {
     "name": "stdout",
     "output_type": "stream",
     "text": [
      "\n"
     ]
    }
   ],
   "source": [
    "year = 1975\n",
    "current_year = date.today().year\n",
    "\n",
    "for x in tqdm(range(year, current_year + 1)):\n",
    "    \n",
    "    link = \"https://www.the-numbers.com/box-office-records/worldwide/all-movies/cumulative/released-in-{}\".format(year)\n",
    "    r = requests.get(link)\n",
    "    soup = bs(r.text, 'html.parser')\n",
    "    main_table = soup.findAll(\"table\")\n",
    "    main_table = main_table[1]\n",
    "    yearly_tops = []\n",
    "    \n",
    "    for a in main_table.find_all('a'):  \n",
    "        top_yearly = {}\n",
    "        if 'summary' in a['href']:\n",
    "            top_yearly['link'] = \"https://www.the-numbers.com\" + a['href']\n",
    "            top_yearly['name'] = a.string\n",
    "            yearly_tops.append(top_yearly)\n",
    "        \n",
    "    df = pd.DataFrame(yearly_tops)\n",
    "    df[['name','link']].to_csv(\"/Users/armaan/src/bbox/mdata/thenum/yearly_tops/{}_tops.csv\".format(year), index=False)\n",
    "\n",
    "    year += 1"
   ]
  }
 ],
 "metadata": {
  "kernelspec": {
   "display_name": "Python 3",
   "language": "python",
   "name": "python3"
  },
  "language_info": {
   "codemirror_mode": {
    "name": "ipython",
    "version": 3
   },
   "file_extension": ".py",
   "mimetype": "text/x-python",
   "name": "python",
   "nbconvert_exporter": "python",
   "pygments_lexer": "ipython3",
   "version": "3.7.7"
  }
 },
 "nbformat": 4,
 "nbformat_minor": 4
}
