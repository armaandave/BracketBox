{
 "cells": [
  {
   "cell_type": "code",
   "execution_count": 1,
   "metadata": {},
   "outputs": [],
   "source": [
    "# imports\n",
    "import requests\n",
    "import pandas as pd\n",
    "import urllib\n",
    "import re\n",
    "import locale\n",
    "from bs4 import BeautifulSoup as bs\n",
    "from time import sleep\n",
    "pd.set_option('display.float_format', lambda x: '%.2f' % x)\n",
    "from tqdm.notebook import tqdm"
   ]
  },
  {
   "cell_type": "code",
   "execution_count": 2,
   "metadata": {},
   "outputs": [],
   "source": [
    "#constants\n",
    "MOVIE_ATTRIBUTES = {\n",
    "                    \"domestic_box_office\", \"international_box_office\", \"worldwide_box_office\",\n",
    "                    \"opening_weekend\"\n",
    "                    }\n",
    "\n",
    "replace_chars = [\n",
    "    (\"\\\\xc3\\\\x83\\\\xc2\\\\xa9\", \"é\"),\n",
    "    (\"\\\\xc3\\\\xa2\\\\xc2\\\\x80\\\\xc2\\\\xa6\", \"...\"),\n",
    "    (\"\\\\xc3\\\\xa2\\\\xc2\\\\x80\\\\xc2\\\\x9c\", \"'\"),\n",
    "    (\"\\\\xc3\\\\xa2\\\\xc2\\\\x80\\\\xc2\\\\x9d\", \"'\"),\n",
    "    (\"\\\\n\", \"\"),\n",
    "    (\"\\\\\", \"\"),\n",
    "    (\"\\xc2\\\\x94\", \"--\"),\n",
    "    ('â\\x80\\x99', \"'\"),\n",
    "    (\"xc3xa2xc2x80xc2x99\", \"'\"),   \n",
    "    (\"xc3xa2xc2x80xc2x94\", \"—\")\n",
    "    \n",
    "]\n",
    "\n",
    "def preprocess_label(label):\n",
    "    \"\"\"\n",
    "    This function will convert label into lower case, combine separate words with an '_' and remove all\n",
    "    white spaces and other charaters from both the ends.\n",
    "    \"\"\"\n",
    "    \n",
    "    label = label.lower()\n",
    "    label = re.sub(\"[^A-Za-z0-9\\s]\", \"\", label)\n",
    "    label = re.sub(\"\\s{2,}\", \" \", label)\n",
    "    label = label.strip()\n",
    "    label = re.sub(\"\\s\", \"_\", label)\n",
    "    return label"
   ]
  },
  {
   "cell_type": "code",
   "execution_count": 3,
   "metadata": {},
   "outputs": [],
   "source": [
    "def get_movie_details(links, MOVIE_ATTRIBUTES):\n",
    "    all_movies_info = []\n",
    "    for link in tqdm(links):\n",
    "        try:\n",
    "            r = requests.get(link)\n",
    "            soup = bs(r.text)\n",
    "            \n",
    "            movie = {}\n",
    "\n",
    "            all_tables = soup.find_all(\"table\")\n",
    "\n",
    "            \n",
    "            # Getting title and year \n",
    "            main_area = soup.find(\"div\", {\"id\": \"main\"})\n",
    "            name_area = main_area.find(\"h1\")\n",
    "            name_s = name_area.string\n",
    "            name_year = name_s.split(\"(\")[-1].strip(')')\n",
    "            name_x = \"(\" + name_year + \")\"\n",
    "            name = name_s.replace(name_x, \"\")\n",
    "            movie[\"name\"] = name.strip()\n",
    "            for rc in replace_chars:\n",
    "                movie[\"name\"] = movie[\"name\"].replace(rc[0], rc[1])\n",
    "            movie[\"name\"] = movie[\"name\"]\n",
    "\n",
    "            movie[\"year\"] = name_year\n",
    "            \n",
    "            # All box office\n",
    "            stats_table = all_tables[0]\n",
    "            stats_table_data = stats_table.findAll(\"td\")\n",
    "            for index, row in enumerate(stats_table_data):\n",
    "                data = row.string\n",
    "                if data:\n",
    "                    label = preprocess_label(data)\n",
    "                    if label in MOVIE_ATTRIBUTES:\n",
    "                        movie[label] = stats_table_data[index+1].string.replace(\"$\",\"\").replace(\",\",\"\")\n",
    "            \n",
    "            all_movies_info.append(movie)\n",
    "                \n",
    "        except Exception as ex:\n",
    "            print(ex, movie, link)\n",
    "            break\n",
    "            \n",
    "    return all_movies_info"
   ]
  },
  {
   "cell_type": "code",
   "execution_count": 4,
   "metadata": {},
   "outputs": [
    {
     "data": {
      "application/vnd.jupyter.widget-view+json": {
       "model_id": "2117af8dd4514e73900578850f33e41e",
       "version_major": 2,
       "version_minor": 0
      },
      "text/plain": [
       "HBox(children=(FloatProgress(value=0.0, max=2.0), HTML(value='')))"
      ]
     },
     "metadata": {},
     "output_type": "display_data"
    },
    {
     "name": "stdout",
     "output_type": "stream",
     "text": [
      "\n"
     ]
    },
    {
     "data": {
      "application/vnd.jupyter.widget-view+json": {
       "model_id": "9f9981cd831e48b3ae1fc59a1cfd6f99",
       "version_major": 2,
       "version_minor": 0
      },
      "text/plain": [
       "HBox(children=(FloatProgress(value=0.0, max=200.0), HTML(value='')))"
      ]
     },
     "metadata": {},
     "output_type": "display_data"
    },
    {
     "name": "stdout",
     "output_type": "stream",
     "text": [
      "\n"
     ]
    }
   ],
   "source": [
    "#top 200 domestic\n",
    "link = \"https://www.the-numbers.com/box-office-records/domestic/all-movies/cumulative/all-time\"\n",
    "\n",
    "top_100 = []\n",
    "for x in tqdm(range(1, 3)):\n",
    "    r = requests.get(link)\n",
    "    soup = bs(r.text, 'html.parser')\n",
    "    main_table = soup.find(\"table\")\n",
    "    for a in main_table.find_all('a'):  \n",
    "        movie = {}\n",
    "        if 'summary' in a['href']:\n",
    "            movie['title'] = a.string\n",
    "            movie['link'] = \"https://www.the-numbers.com\" + a['href']\n",
    "            top_100.append(movie)\n",
    "        \n",
    "df = pd.DataFrame(top_100)\n",
    "df.to_csv('/Users/armaan/src/bbox/mdata/thenum/charts/all_time_domestic.csv', index=False)\n",
    "top_level_data = pd.read_csv('/Users/armaan/src/bbox/mdata/thenum/charts/all_time_domestic.csv')\n",
    "titles = top_level_data[\"title\"]\n",
    "links = top_level_data[\"link\"]\n",
    "all_movies = get_movie_details(links, MOVIE_ATTRIBUTES)\n",
    "df = pd.DataFrame(all_movies)\n",
    "df.to_csv('/Users/armaan/src/bbox/mdata/thenum/charts/all_time_domestic.csv', index=False)"
   ]
  },
  {
   "cell_type": "code",
   "execution_count": 5,
   "metadata": {},
   "outputs": [
    {
     "data": {
      "application/vnd.jupyter.widget-view+json": {
       "model_id": "bde178edcd454ceb9cc2c51b6e64aa5f",
       "version_major": 2,
       "version_minor": 0
      },
      "text/plain": [
       "HBox(children=(FloatProgress(value=0.0, max=2.0), HTML(value='')))"
      ]
     },
     "metadata": {},
     "output_type": "display_data"
    },
    {
     "name": "stdout",
     "output_type": "stream",
     "text": [
      "\n"
     ]
    },
    {
     "data": {
      "application/vnd.jupyter.widget-view+json": {
       "model_id": "6d69459db80441f691fa24410781ee00",
       "version_major": 2,
       "version_minor": 0
      },
      "text/plain": [
       "HBox(children=(FloatProgress(value=0.0, max=200.0), HTML(value='')))"
      ]
     },
     "metadata": {},
     "output_type": "display_data"
    },
    {
     "name": "stdout",
     "output_type": "stream",
     "text": [
      "\n"
     ]
    }
   ],
   "source": [
    "#top 200 domestic animated\n",
    "link = \"https://www.the-numbers.com/box-office-records/domestic/all-movies/cumulative/all-time-animated\"\n",
    "\n",
    "top_100 = []\n",
    "for x in tqdm(range(1, 3)):\n",
    "    r = requests.get(link)\n",
    "    soup = bs(r.text, 'html.parser')\n",
    "    main_table = soup.find(\"table\")\n",
    "    for a in main_table.find_all('a'):  \n",
    "        movie = {}\n",
    "        if 'summary' in a['href']:\n",
    "            movie['title'] = a.string\n",
    "            movie['link'] = \"https://www.the-numbers.com\" + a['href']\n",
    "            top_100.append(movie)\n",
    "        \n",
    "df = pd.DataFrame(top_100)\n",
    "df.to_csv('/Users/armaan/src/bbox/mdata/thenum/charts/all_time_animated_domestic.csv', index=False)\n",
    "top_level_data = pd.read_csv('/Users/armaan/src/bbox/mdata/thenum/charts/all_time_animated_domestic.csv')\n",
    "titles = top_level_data[\"title\"]\n",
    "links = top_level_data[\"link\"]\n",
    "all_movies = get_movie_details(links, MOVIE_ATTRIBUTES)\n",
    "df = pd.DataFrame(all_movies)\n",
    "\n",
    "df.to_csv('/Users/armaan/src/bbox/mdata/thenum/charts/all_time_animated_domestic.csv', index=False)"
   ]
  },
  {
   "cell_type": "code",
   "execution_count": 6,
   "metadata": {},
   "outputs": [
    {
     "data": {
      "application/vnd.jupyter.widget-view+json": {
       "model_id": "f1f6a6c9871a49f29d9509c312659ac2",
       "version_major": 2,
       "version_minor": 0
      },
      "text/plain": [
       "HBox(children=(FloatProgress(value=0.0, max=2.0), HTML(value='')))"
      ]
     },
     "metadata": {},
     "output_type": "display_data"
    },
    {
     "name": "stdout",
     "output_type": "stream",
     "text": [
      "\n"
     ]
    },
    {
     "data": {
      "application/vnd.jupyter.widget-view+json": {
       "model_id": "dc172bc2c4c84f69b8ec5ae407551631",
       "version_major": 2,
       "version_minor": 0
      },
      "text/plain": [
       "HBox(children=(FloatProgress(value=0.0, max=200.0), HTML(value='')))"
      ]
     },
     "metadata": {},
     "output_type": "display_data"
    },
    {
     "name": "stdout",
     "output_type": "stream",
     "text": [
      "\n"
     ]
    }
   ],
   "source": [
    "#top 200 domestic adjusted for inflation\n",
    "link = \"https://www.the-numbers.com/box-office-records/domestic/all-movies/cumulative/all-time-inflation-adjusted\"\n",
    "\n",
    "top_100 = []\n",
    "for x in tqdm(range(1, 3)):\n",
    "    r = requests.get(link)\n",
    "    soup = bs(r.text, 'html.parser')\n",
    "    main_table = soup.find(\"table\")\n",
    "    for a in main_table.find_all('a'):  \n",
    "        movie = {}\n",
    "        if 'summary' in a['href']:\n",
    "            movie['title'] = a.string\n",
    "            movie['link'] = \"https://www.the-numbers.com\" + a['href']\n",
    "            top_100.append(movie)\n",
    "        \n",
    "df = pd.DataFrame(top_100)\n",
    "df.to_csv('/Users/armaan/src/bbox/mdata/thenum/charts/all_time_adjusted_domestic.csv', index=False)\n",
    "top_level_data = pd.read_csv('/Users/armaan/src/bbox/mdata/thenum/charts/all_time_adjusted_domestic.csv')\n",
    "titles = top_level_data[\"title\"]\n",
    "links = top_level_data[\"link\"]\n",
    "all_movies = get_movie_details(links, MOVIE_ATTRIBUTES)\n",
    "df = pd.DataFrame(all_movies)\n",
    "\n",
    "df.to_csv('/Users/armaan/src/bbox/mdata/thenum/charts/all_time_adjusted_domestic.csv', index=False)"
   ]
  },
  {
   "cell_type": "code",
   "execution_count": 7,
   "metadata": {},
   "outputs": [
    {
     "data": {
      "application/vnd.jupyter.widget-view+json": {
       "model_id": "160ac74f710e4139b285b461c6dbf1a7",
       "version_major": 2,
       "version_minor": 0
      },
      "text/plain": [
       "HBox(children=(FloatProgress(value=0.0, max=2.0), HTML(value='')))"
      ]
     },
     "metadata": {},
     "output_type": "display_data"
    },
    {
     "name": "stdout",
     "output_type": "stream",
     "text": [
      "\n"
     ]
    },
    {
     "data": {
      "application/vnd.jupyter.widget-view+json": {
       "model_id": "bd2203ee05cf47c7861c3b9401aa4c2e",
       "version_major": 2,
       "version_minor": 0
      },
      "text/plain": [
       "HBox(children=(FloatProgress(value=0.0, max=200.0), HTML(value='')))"
      ]
     },
     "metadata": {},
     "output_type": "display_data"
    },
    {
     "name": "stdout",
     "output_type": "stream",
     "text": [
      "\n"
     ]
    }
   ],
   "source": [
    "#top 200 international\n",
    "link = \"https://www.the-numbers.com/box-office-records/international/all-movies/cumulative/all-time\"\n",
    "\n",
    "top_100 = []\n",
    "for x in tqdm(range(1, 3)):\n",
    "    r = requests.get(link)\n",
    "    soup = bs(r.text, 'html.parser')\n",
    "    main_table = soup.find(\"table\")\n",
    "    for a in main_table.find_all('a'):  \n",
    "        movie = {}\n",
    "        if 'summary' in a['href']:\n",
    "            movie['title'] = a.string\n",
    "            movie['link'] = \"https://www.the-numbers.com\" + a['href']\n",
    "            top_100.append(movie)\n",
    "        \n",
    "df = pd.DataFrame(top_100)\n",
    "df.to_csv('/Users/armaan/src/bbox/mdata/thenum/charts/all_time_international.csv', index=False)\n",
    "top_level_data = pd.read_csv('/Users/armaan/src/bbox/mdata/thenum/charts/all_time_international.csv')\n",
    "titles = top_level_data[\"title\"]\n",
    "links = top_level_data[\"link\"]\n",
    "all_movies = get_movie_details(links, MOVIE_ATTRIBUTES)\n",
    "df = pd.DataFrame(all_movies)\n",
    "\n",
    "df.to_csv('/Users/armaan/src/bbox/mdata/thenum/charts/all_time_international.csv', index=False)"
   ]
  },
  {
   "cell_type": "code",
   "execution_count": 8,
   "metadata": {},
   "outputs": [
    {
     "data": {
      "application/vnd.jupyter.widget-view+json": {
       "model_id": "147b111a90c141d4866a211f9bbe17aa",
       "version_major": 2,
       "version_minor": 0
      },
      "text/plain": [
       "HBox(children=(FloatProgress(value=0.0, max=2.0), HTML(value='')))"
      ]
     },
     "metadata": {},
     "output_type": "display_data"
    },
    {
     "name": "stdout",
     "output_type": "stream",
     "text": [
      "\n"
     ]
    },
    {
     "data": {
      "application/vnd.jupyter.widget-view+json": {
       "model_id": "e16aa56e7cbc4fb09409b7f4183add54",
       "version_major": 2,
       "version_minor": 0
      },
      "text/plain": [
       "HBox(children=(FloatProgress(value=0.0, max=200.0), HTML(value='')))"
      ]
     },
     "metadata": {},
     "output_type": "display_data"
    },
    {
     "name": "stdout",
     "output_type": "stream",
     "text": [
      "\n"
     ]
    }
   ],
   "source": [
    "#top 200 international animated\n",
    "link = \"https://www.the-numbers.com/box-office-records/international/all-movies/cumulative/all-time-animated\"\n",
    "\n",
    "top_100 = []\n",
    "for x in tqdm(range(1, 3)):\n",
    "    r = requests.get(link)\n",
    "    soup = bs(r.text, 'html.parser')\n",
    "    main_table = soup.find(\"table\")\n",
    "    for a in main_table.find_all('a'):  \n",
    "        movie = {}\n",
    "        if 'summary' in a['href']:\n",
    "            movie['title'] = a.string\n",
    "            movie['link'] = \"https://www.the-numbers.com\" + a['href']\n",
    "            top_100.append(movie)\n",
    "        \n",
    "df = pd.DataFrame(top_100)\n",
    "df.to_csv('/Users/armaan/src/bbox/mdata/thenum/charts/all_time_animated_international.csv', index=False)\n",
    "top_level_data = pd.read_csv('/Users/armaan/src/bbox/mdata/thenum/charts/all_time_animated_international.csv')\n",
    "titles = top_level_data[\"title\"]\n",
    "links = top_level_data[\"link\"]\n",
    "all_movies = get_movie_details(links, MOVIE_ATTRIBUTES)\n",
    "df = pd.DataFrame(all_movies)\n",
    "\n",
    "df.to_csv('/Users/armaan/src/bbox/mdata/thenum/charts/all_time_animated_international.csv', index=False)"
   ]
  },
  {
   "cell_type": "code",
   "execution_count": 9,
   "metadata": {},
   "outputs": [
    {
     "data": {
      "application/vnd.jupyter.widget-view+json": {
       "model_id": "a050a7666a434ae28e252ebb5b173c3d",
       "version_major": 2,
       "version_minor": 0
      },
      "text/plain": [
       "HBox(children=(FloatProgress(value=0.0, max=2.0), HTML(value='')))"
      ]
     },
     "metadata": {},
     "output_type": "display_data"
    },
    {
     "name": "stdout",
     "output_type": "stream",
     "text": [
      "\n"
     ]
    },
    {
     "data": {
      "application/vnd.jupyter.widget-view+json": {
       "model_id": "39dbca840eb44adb9e0d0b24a090dc8f",
       "version_major": 2,
       "version_minor": 0
      },
      "text/plain": [
       "HBox(children=(FloatProgress(value=0.0, max=200.0), HTML(value='')))"
      ]
     },
     "metadata": {},
     "output_type": "display_data"
    },
    {
     "name": "stdout",
     "output_type": "stream",
     "text": [
      "\n"
     ]
    }
   ],
   "source": [
    "#top 200 worldwide\n",
    "link = \"https://www.the-numbers.com/box-office-records/worldwide/all-movies/cumulative/all-time\"\n",
    "\n",
    "top_100 = []\n",
    "for x in tqdm(range(1, 3)):\n",
    "    r = requests.get(link)\n",
    "    soup = bs(r.text, 'html.parser')\n",
    "    main_table = soup.find(\"table\")\n",
    "    for a in main_table.find_all('a'):  \n",
    "        movie = {}\n",
    "        if 'summary' in a['href']:\n",
    "            movie['title'] = a.string\n",
    "            movie['link'] = \"https://www.the-numbers.com\" + a['href']\n",
    "            top_100.append(movie)\n",
    "        \n",
    "df = pd.DataFrame(top_100)\n",
    "df.to_csv('/Users/armaan/src/bbox/mdata/thenum/charts/all_time_worldwide.csv', index=False)\n",
    "top_level_data = pd.read_csv('/Users/armaan/src/bbox/mdata/thenum/charts/all_time_worldwide.csv')\n",
    "titles = top_level_data[\"title\"]\n",
    "links = top_level_data[\"link\"]\n",
    "all_movies = get_movie_details(links, MOVIE_ATTRIBUTES)\n",
    "df = pd.DataFrame(all_movies)\n",
    "\n",
    "df.to_csv('/Users/armaan/src/bbox/mdata/thenum/charts/all_time_worldwide.csv', index=False)"
   ]
  }
 ],
 "metadata": {
  "kernelspec": {
   "display_name": "Python 3",
   "language": "python",
   "name": "python3"
  },
  "language_info": {
   "codemirror_mode": {
    "name": "ipython",
    "version": 3
   },
   "file_extension": ".py",
   "mimetype": "text/x-python",
   "name": "python",
   "nbconvert_exporter": "python",
   "pygments_lexer": "ipython3",
   "version": "3.7.7"
  }
 },
 "nbformat": 4,
 "nbformat_minor": 4
}
