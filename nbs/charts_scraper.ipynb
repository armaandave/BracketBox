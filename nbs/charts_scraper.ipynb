{
 "cells": [
  {
   "cell_type": "code",
   "execution_count": 188,
   "metadata": {},
   "outputs": [],
   "source": [
    "# imports\n",
    "import requests\n",
    "import pandas as pd\n",
    "import urllib\n",
    "import re\n",
    "import locale\n",
    "from bs4 import BeautifulSoup as bs\n",
    "from time import sleep\n",
    "pd.set_option('display.float_format', lambda x: '%.2f' % x)\n",
    "from tqdm.notebook import tqdm"
   ]
  },
  {
   "cell_type": "code",
   "execution_count": 189,
   "metadata": {},
   "outputs": [],
   "source": [
    "#constants\n",
    "MOVIE_ATTRIBUTES = {\n",
    "                    \"domestic_box_office\", \"international_box_office\", \"worldwide_box_office\",\n",
    "                    \"opening_weekend\"\n",
    "                    }\n",
    "\n",
    "replace_chars = [\n",
    "    (\"\\\\xc3\\\\x83\\\\xc2\\\\xa9\", \"é\"),\n",
    "    (\"\\\\xc3\\\\xa2\\\\xc2\\\\x80\\\\xc2\\\\xa6\", \"...\"),\n",
    "    (\"\\\\xc3\\\\xa2\\\\xc2\\\\x80\\\\xc2\\\\x9c\", \"'\"),\n",
    "    (\"\\\\xc3\\\\xa2\\\\xc2\\\\x80\\\\xc2\\\\x9d\", \"'\"),\n",
    "    (\"\\\\n\", \"\"),\n",
    "    (\"\\\\\", \"\"),\n",
    "    (\"\\xc2\\\\x94\", \"--\"),\n",
    "    ('â\\x80\\x99', \"'\"),\n",
    "    (\"xc3xa2xc2x80xc2x99\", \"'\"),   \n",
    "    (\"xc3xa2xc2x80xc2x94\", \"—\")\n",
    "    \n",
    "]\n",
    "\n",
    "def preprocess_label(label):\n",
    "    \"\"\"\n",
    "    This function will convert label into lower case, combine separate words with an '_' and remove all\n",
    "    white spaces and other charaters from both the ends.\n",
    "    \"\"\"\n",
    "    \n",
    "    label = label.lower()\n",
    "    label = re.sub(\"[^A-Za-z0-9\\s]\", \"\", label)\n",
    "    label = re.sub(\"\\s{2,}\", \" \", label)\n",
    "    label = label.strip()\n",
    "    label = re.sub(\"\\s\", \"_\", label)\n",
    "    return label"
   ]
  },
  {
   "cell_type": "code",
   "execution_count": 190,
   "metadata": {},
   "outputs": [],
   "source": [
    "def get_movie_details(links, MOVIE_ATTRIBUTES):\n",
    "    all_movies_info = []\n",
    "    for link in tqdm(links):\n",
    "        try:\n",
    "            r = requests.get(link)\n",
    "            soup = bs(r.text)\n",
    "            \n",
    "            movie = {}\n",
    "\n",
    "            all_tables = soup.find_all(\"table\")\n",
    "\n",
    "            \n",
    "            # Getting title and year \n",
    "            main_area = soup.find(\"div\", {\"id\": \"main\"})\n",
    "            name_area = main_area.find(\"h1\")\n",
    "            name_s = name_area.string\n",
    "            name_year = name_s.split(\"(\")[-1].strip(')')\n",
    "            name_x = \"(\" + name_year + \")\"\n",
    "            name = name_s.replace(name_x, \"\")\n",
    "            movie[\"name\"] = name.strip()\n",
    "            for rc in replace_chars:\n",
    "                movie[\"name\"] = movie[\"name\"].replace(rc[0], rc[1])\n",
    "            movie[\"name\"] = movie[\"name\"]\n",
    "\n",
    "            movie[\"year\"] = name_year\n",
    "            \n",
    "            # All box office\n",
    "            stats_table = all_tables[0]\n",
    "            stats_table_data = stats_table.findAll(\"td\")\n",
    "            for index, row in enumerate(stats_table_data):\n",
    "                data = row.string\n",
    "                if data:\n",
    "                    label = preprocess_label(data)\n",
    "                    if label in MOVIE_ATTRIBUTES:\n",
    "                        movie[label] = stats_table_data[index+1].string.replace(\"$\",\"\").replace(\",\",\"\")\n",
    "            \n",
    "            all_movies_info.append(movie)\n",
    "                \n",
    "        except Exception as ex:\n",
    "            print(ex, movie, link)\n",
    "            break\n",
    "            \n",
    "    return all_movies_info"
   ]
  },
  {
   "cell_type": "code",
   "execution_count": 191,
   "metadata": {},
   "outputs": [
    {
     "data": {
      "application/vnd.jupyter.widget-view+json": {
       "model_id": "ee91f41b64cc47f3947e796cdb7b44e0",
       "version_major": 2,
       "version_minor": 0
      },
      "text/plain": [
       "HBox(children=(FloatProgress(value=0.0, max=2.0), HTML(value='')))"
      ]
     },
     "metadata": {},
     "output_type": "display_data"
    },
    {
     "name": "stdout",
     "output_type": "stream",
     "text": [
      "\n"
     ]
    },
    {
     "data": {
      "application/vnd.jupyter.widget-view+json": {
       "model_id": "c68df5e8370142cdb20bd737bc7b780d",
       "version_major": 2,
       "version_minor": 0
      },
      "text/plain": [
       "HBox(children=(FloatProgress(value=0.0, max=200.0), HTML(value='')))"
      ]
     },
     "metadata": {},
     "output_type": "display_data"
    },
    {
     "name": "stdout",
     "output_type": "stream",
     "text": [
      "\n"
     ]
    }
   ],
   "source": [
    "#top 200 domestic\n",
    "link = \"https://www.the-numbers.com/box-office-records/domestic/all-movies/cumulative/all-time\"\n",
    "\n",
    "top_100 = []\n",
    "for x in tqdm(range(1, 3)):\n",
    "    r = requests.get(link)\n",
    "    soup = bs(r.text, 'html.parser')\n",
    "    main_table = soup.find(\"table\")\n",
    "    for a in main_table.find_all('a'):  \n",
    "        movie = {}\n",
    "        if 'summary' in a['href']:\n",
    "            movie['title'] = a.string\n",
    "            movie['link'] = \"https://www.the-numbers.com\" + a['href']\n",
    "            top_100.append(movie)\n",
    "        \n",
    "df = pd.DataFrame(top_100)\n",
    "df.to_csv('/Users/armaan/src/bbox/mdata/thenum/charts/all_time_domestic.csv', index=False)\n",
    "top_level_data = pd.read_csv('/Users/armaan/src/bbox/mdata/thenum/charts/all_time_domestic.csv')\n",
    "titles = top_level_data[\"title\"]\n",
    "links = top_level_data[\"link\"]\n",
    "all_movies = get_movie_details(links, MOVIE_ATTRIBUTES)\n",
    "df = pd.DataFrame(all_movies)\n",
    "df.to_csv('/Users/armaan/src/bbox/mdata/thenum/charts/all_time_domestic.csv', index=False)"
   ]
  },
  {
   "cell_type": "code",
   "execution_count": 192,
   "metadata": {},
   "outputs": [
    {
     "data": {
      "application/vnd.jupyter.widget-view+json": {
       "model_id": "a7012c82466149599d392434ce2cd8b3",
       "version_major": 2,
       "version_minor": 0
      },
      "text/plain": [
       "HBox(children=(FloatProgress(value=0.0, max=2.0), HTML(value='')))"
      ]
     },
     "metadata": {},
     "output_type": "display_data"
    },
    {
     "name": "stdout",
     "output_type": "stream",
     "text": [
      "\n"
     ]
    },
    {
     "data": {
      "application/vnd.jupyter.widget-view+json": {
       "model_id": "46d30fc1f4d84fbdb416f4c52ff407fb",
       "version_major": 2,
       "version_minor": 0
      },
      "text/plain": [
       "HBox(children=(FloatProgress(value=0.0, max=200.0), HTML(value='')))"
      ]
     },
     "metadata": {},
     "output_type": "display_data"
    },
    {
     "name": "stdout",
     "output_type": "stream",
     "text": [
      "\n"
     ]
    }
   ],
   "source": [
    "#top 200 domestic animated\n",
    "link = \"https://www.the-numbers.com/box-office-records/domestic/all-movies/cumulative/all-time-animated\"\n",
    "\n",
    "top_100 = []\n",
    "for x in tqdm(range(1, 3)):\n",
    "    r = requests.get(link)\n",
    "    soup = bs(r.text, 'html.parser')\n",
    "    main_table = soup.find(\"table\")\n",
    "    for a in main_table.find_all('a'):  \n",
    "        movie = {}\n",
    "        if 'summary' in a['href']:\n",
    "            movie['title'] = a.string\n",
    "            movie['link'] = \"https://www.the-numbers.com\" + a['href']\n",
    "            top_100.append(movie)\n",
    "        \n",
    "df = pd.DataFrame(top_100)\n",
    "df.to_csv('/Users/armaan/src/bbox/mdata/thenum/charts/all_time_animated_domestic.csv', index=False)\n",
    "top_level_data = pd.read_csv('/Users/armaan/src/bbox/mdata/thenum/charts/all_time_animated_domestic.csv')\n",
    "titles = top_level_data[\"title\"]\n",
    "links = top_level_data[\"link\"]\n",
    "all_movies = get_movie_details(links, MOVIE_ATTRIBUTES)\n",
    "df = pd.DataFrame(all_movies)\n",
    "\n",
    "df.to_csv('/Users/armaan/src/bbox/mdata/thenum/charts/all_time_animated_domestic.csv', index=False)"
   ]
  },
  {
   "cell_type": "code",
   "execution_count": 193,
   "metadata": {},
   "outputs": [
    {
     "data": {
      "application/vnd.jupyter.widget-view+json": {
       "model_id": "d75cbeb4dd8e4194824ab350169ac150",
       "version_major": 2,
       "version_minor": 0
      },
      "text/plain": [
       "HBox(children=(FloatProgress(value=0.0, max=2.0), HTML(value='')))"
      ]
     },
     "metadata": {},
     "output_type": "display_data"
    },
    {
     "name": "stdout",
     "output_type": "stream",
     "text": [
      "\n"
     ]
    },
    {
     "data": {
      "application/vnd.jupyter.widget-view+json": {
       "model_id": "b7bc2e1a33fd4b75ac9b4162e4dc22a7",
       "version_major": 2,
       "version_minor": 0
      },
      "text/plain": [
       "HBox(children=(FloatProgress(value=0.0, max=200.0), HTML(value='')))"
      ]
     },
     "metadata": {},
     "output_type": "display_data"
    },
    {
     "name": "stdout",
     "output_type": "stream",
     "text": [
      "\n"
     ]
    }
   ],
   "source": [
    "#top 200 domestic adjusted for inflation\n",
    "link = \"https://www.the-numbers.com/box-office-records/domestic/all-movies/cumulative/all-time-inflation-adjusted\"\n",
    "\n",
    "top_100 = []\n",
    "for x in tqdm(range(1, 3)):\n",
    "    r = requests.get(link)\n",
    "    soup = bs(r.text, 'html.parser')\n",
    "    main_table = soup.find(\"table\")\n",
    "    for a in main_table.find_all('a'):  \n",
    "        movie = {}\n",
    "        if 'summary' in a['href']:\n",
    "            movie['title'] = a.string\n",
    "            movie['link'] = \"https://www.the-numbers.com\" + a['href']\n",
    "            top_100.append(movie)\n",
    "        \n",
    "df = pd.DataFrame(top_100)\n",
    "df.to_csv('/Users/armaan/src/bbox/mdata/thenum/charts/all_time_adjusted_domestic.csv', index=False)\n",
    "top_level_data = pd.read_csv('/Users/armaan/src/bbox/mdata/thenum/charts/all_time_adjusted_domestic.csv')\n",
    "titles = top_level_data[\"title\"]\n",
    "links = top_level_data[\"link\"]\n",
    "all_movies = get_movie_details(links, MOVIE_ATTRIBUTES)\n",
    "df = pd.DataFrame(all_movies)\n",
    "\n",
    "df.to_csv('/Users/armaan/src/bbox/mdata/thenum/charts/all_time_adjusted_domestic.csv', index=False)"
   ]
  },
  {
   "cell_type": "code",
   "execution_count": 194,
   "metadata": {},
   "outputs": [
    {
     "data": {
      "application/vnd.jupyter.widget-view+json": {
       "model_id": "28a6ae7d5a094e15a4a640c36e928649",
       "version_major": 2,
       "version_minor": 0
      },
      "text/plain": [
       "HBox(children=(FloatProgress(value=0.0, max=2.0), HTML(value='')))"
      ]
     },
     "metadata": {},
     "output_type": "display_data"
    },
    {
     "name": "stdout",
     "output_type": "stream",
     "text": [
      "\n"
     ]
    },
    {
     "data": {
      "application/vnd.jupyter.widget-view+json": {
       "model_id": "e3db0c7830a440e799e4ccca0c9cb0bd",
       "version_major": 2,
       "version_minor": 0
      },
      "text/plain": [
       "HBox(children=(FloatProgress(value=0.0, max=200.0), HTML(value='')))"
      ]
     },
     "metadata": {},
     "output_type": "display_data"
    },
    {
     "name": "stdout",
     "output_type": "stream",
     "text": [
      "\n"
     ]
    }
   ],
   "source": [
    "#top 200 international\n",
    "link = \"https://www.the-numbers.com/box-office-records/international/all-movies/cumulative/all-time\"\n",
    "\n",
    "top_100 = []\n",
    "for x in tqdm(range(1, 3)):\n",
    "    r = requests.get(link)\n",
    "    soup = bs(r.text, 'html.parser')\n",
    "    main_table = soup.find(\"table\")\n",
    "    for a in main_table.find_all('a'):  \n",
    "        movie = {}\n",
    "        if 'summary' in a['href']:\n",
    "            movie['title'] = a.string\n",
    "            movie['link'] = \"https://www.the-numbers.com\" + a['href']\n",
    "            top_100.append(movie)\n",
    "        \n",
    "df = pd.DataFrame(top_100)\n",
    "df.to_csv('/Users/armaan/src/bbox/mdata/thenum/charts/all_time_international.csv', index=False)\n",
    "top_level_data = pd.read_csv('/Users/armaan/src/bbox/mdata/thenum/charts/all_time_international.csv')\n",
    "titles = top_level_data[\"title\"]\n",
    "links = top_level_data[\"link\"]\n",
    "all_movies = get_movie_details(links, MOVIE_ATTRIBUTES)\n",
    "df = pd.DataFrame(all_movies)\n",
    "\n",
    "df.to_csv('/Users/armaan/src/bbox/mdata/thenum/charts/all_time_international.csv', index=False)"
   ]
  },
  {
   "cell_type": "code",
   "execution_count": 195,
   "metadata": {},
   "outputs": [
    {
     "data": {
      "application/vnd.jupyter.widget-view+json": {
       "model_id": "76d67840c53c4ef089dd6666e3d3316e",
       "version_major": 2,
       "version_minor": 0
      },
      "text/plain": [
       "HBox(children=(FloatProgress(value=0.0, max=2.0), HTML(value='')))"
      ]
     },
     "metadata": {},
     "output_type": "display_data"
    },
    {
     "name": "stdout",
     "output_type": "stream",
     "text": [
      "\n"
     ]
    },
    {
     "data": {
      "application/vnd.jupyter.widget-view+json": {
       "model_id": "8aa4336d6665469cae0fdcc8c22c8524",
       "version_major": 2,
       "version_minor": 0
      },
      "text/plain": [
       "HBox(children=(FloatProgress(value=0.0, max=200.0), HTML(value='')))"
      ]
     },
     "metadata": {},
     "output_type": "display_data"
    },
    {
     "name": "stdout",
     "output_type": "stream",
     "text": [
      "\n"
     ]
    }
   ],
   "source": [
    "#top 200 international animated\n",
    "link = \"https://www.the-numbers.com/box-office-records/international/all-movies/cumulative/all-time-animated\"\n",
    "\n",
    "top_100 = []\n",
    "for x in tqdm(range(1, 3)):\n",
    "    r = requests.get(link)\n",
    "    soup = bs(r.text, 'html.parser')\n",
    "    main_table = soup.find(\"table\")\n",
    "    for a in main_table.find_all('a'):  \n",
    "        movie = {}\n",
    "        if 'summary' in a['href']:\n",
    "            movie['title'] = a.string\n",
    "            movie['link'] = \"https://www.the-numbers.com\" + a['href']\n",
    "            top_100.append(movie)\n",
    "        \n",
    "df = pd.DataFrame(top_100)\n",
    "df.to_csv('/Users/armaan/src/bbox/mdata/thenum/charts/all_time_animated_international.csv', index=False)\n",
    "top_level_data = pd.read_csv('/Users/armaan/src/bbox/mdata/thenum/charts/all_time_animated_international.csv')\n",
    "titles = top_level_data[\"title\"]\n",
    "links = top_level_data[\"link\"]\n",
    "all_movies = get_movie_details(links, MOVIE_ATTRIBUTES)\n",
    "df = pd.DataFrame(all_movies)\n",
    "\n",
    "df.to_csv('/Users/armaan/src/bbox/mdata/thenum/charts/all_time_animated_international.csv', index=False)"
   ]
  },
  {
   "cell_type": "code",
   "execution_count": 196,
   "metadata": {},
   "outputs": [
    {
     "data": {
      "application/vnd.jupyter.widget-view+json": {
       "model_id": "cd3936c9dee142788d3c93822ab3fca4",
       "version_major": 2,
       "version_minor": 0
      },
      "text/plain": [
       "HBox(children=(FloatProgress(value=0.0, max=2.0), HTML(value='')))"
      ]
     },
     "metadata": {},
     "output_type": "display_data"
    },
    {
     "name": "stdout",
     "output_type": "stream",
     "text": [
      "\n"
     ]
    },
    {
     "data": {
      "application/vnd.jupyter.widget-view+json": {
       "model_id": "6606fbdb0f024fb39093015281a2bb2d",
       "version_major": 2,
       "version_minor": 0
      },
      "text/plain": [
       "HBox(children=(FloatProgress(value=0.0, max=200.0), HTML(value='')))"
      ]
     },
     "metadata": {},
     "output_type": "display_data"
    },
    {
     "name": "stdout",
     "output_type": "stream",
     "text": [
      "\n"
     ]
    }
   ],
   "source": [
    "#top 200 worldwide\n",
    "link = \"https://www.the-numbers.com/box-office-records/worldwide/all-movies/cumulative/all-time\"\n",
    "\n",
    "top_100 = []\n",
    "for x in tqdm(range(1, 3)):\n",
    "    r = requests.get(link)\n",
    "    soup = bs(r.text, 'html.parser')\n",
    "    main_table = soup.find(\"table\")\n",
    "    for a in main_table.find_all('a'):  \n",
    "        movie = {}\n",
    "        if 'summary' in a['href']:\n",
    "            movie['title'] = a.string\n",
    "            movie['link'] = \"https://www.the-numbers.com\" + a['href']\n",
    "            top_100.append(movie)\n",
    "        \n",
    "df = pd.DataFrame(top_100)\n",
    "df.to_csv('/Users/armaan/src/bbox/mdata/thenum/charts/all_time_worldwide.csv', index=False)\n",
    "top_level_data = pd.read_csv('/Users/armaan/src/bbox/mdata/thenum/charts/all_time_worldwide.csv')\n",
    "titles = top_level_data[\"title\"]\n",
    "links = top_level_data[\"link\"]\n",
    "all_movies = get_movie_details(links, MOVIE_ATTRIBUTES)\n",
    "df = pd.DataFrame(all_movies)\n",
    "\n",
    "df.to_csv('/Users/armaan/src/bbox/mdata/thenum/charts/all_time_worldwide.csv', index=False)"
   ]
  }
 ],
 "metadata": {
  "kernelspec": {
   "display_name": "Python 3",
   "language": "python",
   "name": "python3"
  },
  "language_info": {
   "codemirror_mode": {
    "name": "ipython",
    "version": 3
   },
   "file_extension": ".py",
   "mimetype": "text/x-python",
   "name": "python",
   "nbconvert_exporter": "python",
   "pygments_lexer": "ipython3",
   "version": "3.7.7"
  }
 },
 "nbformat": 4,
 "nbformat_minor": 4
}
