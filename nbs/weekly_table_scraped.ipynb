{
 "cells": [
  {
   "cell_type": "code",
   "execution_count": 1,
   "metadata": {},
   "outputs": [],
   "source": [
    "#imports\n",
    "import requests\n",
    "from bs4 import BeautifulSoup as bs\n",
    "from tqdm.notebook import tqdm\n",
    "import pandas as pd\n",
    "from datetime import date"
   ]
  },
  {
   "cell_type": "code",
   "execution_count": 2,
   "metadata": {},
   "outputs": [],
   "source": [
    "link = \"https://www.the-numbers.com/weekly-box-office-chart\"\n",
    "r = requests.get(link)\n",
    "soup = bs(r.text, 'html.parser')\n",
    "main_table = soup.findAll(\"table\")\n",
    "main_table = main_table[1]"
   ]
  },
  {
   "cell_type": "code",
   "execution_count": 3,
   "metadata": {},
   "outputs": [
    {
     "data": {
      "text/html": [
       "<div>\n",
       "<style scoped>\n",
       "    .dataframe tbody tr th:only-of-type {\n",
       "        vertical-align: middle;\n",
       "    }\n",
       "\n",
       "    .dataframe tbody tr th {\n",
       "        vertical-align: top;\n",
       "    }\n",
       "\n",
       "    .dataframe thead th {\n",
       "        text-align: right;\n",
       "    }\n",
       "</style>\n",
       "<table border=\"1\" class=\"dataframe\">\n",
       "  <thead>\n",
       "    <tr style=\"text-align: right;\">\n",
       "      <th></th>\n",
       "      <th>name</th>\n",
       "      <th>link</th>\n",
       "    </tr>\n",
       "  </thead>\n",
       "  <tbody>\n",
       "    <tr>\n",
       "      <th>0</th>\n",
       "      <td>The Wretched</td>\n",
       "      <td>https://www.the-numbers.com/movie/Wretched-The...</td>\n",
       "    </tr>\n",
       "    <tr>\n",
       "      <th>1</th>\n",
       "      <td>How to Build a Girl</td>\n",
       "      <td>https://www.the-numbers.com/movie/How-to-Build...</td>\n",
       "    </tr>\n",
       "    <tr>\n",
       "      <th>2</th>\n",
       "      <td>The Trip to Greece</td>\n",
       "      <td>https://www.the-numbers.com/movie/Trip-to-Gree...</td>\n",
       "    </tr>\n",
       "  </tbody>\n",
       "</table>\n",
       "</div>"
      ],
      "text/plain": [
       "                  name                                               link\n",
       "0         The Wretched  https://www.the-numbers.com/movie/Wretched-The...\n",
       "1  How to Build a Girl  https://www.the-numbers.com/movie/How-to-Build...\n",
       "2   The Trip to Greece  https://www.the-numbers.com/movie/Trip-to-Gree..."
      ]
     },
     "execution_count": 3,
     "metadata": {},
     "output_type": "execute_result"
    }
   ],
   "source": [
    "top_weekly = []\n",
    "for a in main_table.find_all('a'):  \n",
    "    weekly_top = {}\n",
    "    if 'box-office' in a['href']:\n",
    "        weekly_top['name'] = a.string\n",
    "        weekly_top['link'] = \"https://www.the-numbers.com\" + a['href']\n",
    "        top_weekly.append(weekly_top)\n",
    "        df = pd.DataFrame(top_weekly)\n",
    "        \n",
    "df"
   ]
  },
  {
   "cell_type": "code",
   "execution_count": 4,
   "metadata": {},
   "outputs": [],
   "source": [
    "df[['name','link']].to_csv(\"/Users/armaan/src/bbox/mdata/thenum/weekly_tops/weekly_tops.csv\", index=False)"
   ]
  }
 ],
 "metadata": {
  "kernelspec": {
   "display_name": "Python 3",
   "language": "python",
   "name": "python3"
  },
  "language_info": {
   "codemirror_mode": {
    "name": "ipython",
    "version": 3
   },
   "file_extension": ".py",
   "mimetype": "text/x-python",
   "name": "python",
   "nbconvert_exporter": "python",
   "pygments_lexer": "ipython3",
   "version": "3.7.7"
  }
 },
 "nbformat": 4,
 "nbformat_minor": 4
}
