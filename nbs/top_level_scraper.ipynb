{
 "cells": [
  {
   "cell_type": "code",
   "execution_count": 14,
   "metadata": {},
   "outputs": [],
   "source": [
    "import requests\n",
    "from bs4 import BeautifulSoup as bs\n",
    "from tqdm.notebook import tqdm"
   ]
  },
  {
   "cell_type": "code",
   "execution_count": 15,
   "metadata": {},
   "outputs": [
    {
     "data": {
      "application/vnd.jupyter.widget-view+json": {
       "model_id": "10d9716d77d34cfd828963bb8a57d710",
       "version_major": 2,
       "version_minor": 0
      },
      "text/plain": [
       "HBox(children=(FloatProgress(value=0.0, max=25.0), HTML(value='')))"
      ]
     },
     "metadata": {},
     "output_type": "display_data"
    },
    {
     "name": "stdout",
     "output_type": "stream",
     "text": [
      "\n"
     ]
    },
    {
     "data": {
      "text/plain": [
       "2500"
      ]
     },
     "execution_count": 15,
     "metadata": {},
     "output_type": "execute_result"
    }
   ],
   "source": [
    "link = \"https://www.the-numbers.com/box-office-records/domestic/all-movies/cumulative/all-time\"\n",
    "page = 101\n",
    "top_100 = []\n",
    "for x in tqdm(range(1, 26)):\n",
    "    r = requests.get(link)\n",
    "    soup = bs(r.text, 'html.parser')\n",
    "    main_table = soup.find(\"table\")\n",
    "    link = \"https://www.the-numbers.com/box-office-records/domestic/all-movies/cumulative/all-time/{}\".format(page)\n",
    "    page += 100\n",
    "    for a in main_table.find_all('a'):  \n",
    "        movie = {}\n",
    "        if 'summary' in a['href']:\n",
    "            movie['link'] = \"https://www.the-numbers.com\" + a['href']\n",
    "            movie['title'] = a.string\n",
    "            #print(\"{} : {}\".format(title, link))\n",
    "            top_100.append(movie)\n",
    "        \n",
    "len(top_100)"
   ]
  },
  {
   "cell_type": "code",
   "execution_count": 16,
   "metadata": {},
   "outputs": [
    {
     "data": {
      "text/html": [
       "<div>\n",
       "<style scoped>\n",
       "    .dataframe tbody tr th:only-of-type {\n",
       "        vertical-align: middle;\n",
       "    }\n",
       "\n",
       "    .dataframe tbody tr th {\n",
       "        vertical-align: top;\n",
       "    }\n",
       "\n",
       "    .dataframe thead th {\n",
       "        text-align: right;\n",
       "    }\n",
       "</style>\n",
       "<table border=\"1\" class=\"dataframe\">\n",
       "  <thead>\n",
       "    <tr style=\"text-align: right;\">\n",
       "      <th></th>\n",
       "      <th>link</th>\n",
       "      <th>title</th>\n",
       "    </tr>\n",
       "  </thead>\n",
       "  <tbody>\n",
       "    <tr>\n",
       "      <th>0</th>\n",
       "      <td>https://www.the-numbers.com/movie/Star-Wars-Ep...</td>\n",
       "      <td>Star Wars Ep. VII: The Force Awakens</td>\n",
       "    </tr>\n",
       "    <tr>\n",
       "      <th>1</th>\n",
       "      <td>https://www.the-numbers.com/movie/Avengers-End...</td>\n",
       "      <td>Avengers: Endgame</td>\n",
       "    </tr>\n",
       "    <tr>\n",
       "      <th>2</th>\n",
       "      <td>https://www.the-numbers.com/movie/Avatar#tab=s...</td>\n",
       "      <td>Avatar</td>\n",
       "    </tr>\n",
       "    <tr>\n",
       "      <th>3</th>\n",
       "      <td>https://www.the-numbers.com/movie/Black-Panthe...</td>\n",
       "      <td>Black Panther</td>\n",
       "    </tr>\n",
       "    <tr>\n",
       "      <th>4</th>\n",
       "      <td>https://www.the-numbers.com/movie/Avengers-Inf...</td>\n",
       "      <td>Avengers: Infinity War</td>\n",
       "    </tr>\n",
       "    <tr>\n",
       "      <th>...</th>\n",
       "      <td>...</td>\n",
       "      <td>...</td>\n",
       "    </tr>\n",
       "    <tr>\n",
       "      <th>2495</th>\n",
       "      <td>https://www.the-numbers.com/movie/Concussion-(...</td>\n",
       "      <td>Concussion</td>\n",
       "    </tr>\n",
       "    <tr>\n",
       "      <th>2496</th>\n",
       "      <td>https://www.the-numbers.com/movie/Courageous#t...</td>\n",
       "      <td>Courageous</td>\n",
       "    </tr>\n",
       "    <tr>\n",
       "      <th>2497</th>\n",
       "      <td>https://www.the-numbers.com/movie/Woodstock#ta...</td>\n",
       "      <td>Woodstock</td>\n",
       "    </tr>\n",
       "    <tr>\n",
       "      <th>2498</th>\n",
       "      <td>https://www.the-numbers.com/movie/Monster#tab=...</td>\n",
       "      <td>Monster</td>\n",
       "    </tr>\n",
       "    <tr>\n",
       "      <th>2499</th>\n",
       "      <td>https://www.the-numbers.com/movie/Doors-The#ta...</td>\n",
       "      <td>The Doors</td>\n",
       "    </tr>\n",
       "  </tbody>\n",
       "</table>\n",
       "<p>2500 rows × 2 columns</p>\n",
       "</div>"
      ],
      "text/plain": [
       "                                                   link  \\\n",
       "0     https://www.the-numbers.com/movie/Star-Wars-Ep...   \n",
       "1     https://www.the-numbers.com/movie/Avengers-End...   \n",
       "2     https://www.the-numbers.com/movie/Avatar#tab=s...   \n",
       "3     https://www.the-numbers.com/movie/Black-Panthe...   \n",
       "4     https://www.the-numbers.com/movie/Avengers-Inf...   \n",
       "...                                                 ...   \n",
       "2495  https://www.the-numbers.com/movie/Concussion-(...   \n",
       "2496  https://www.the-numbers.com/movie/Courageous#t...   \n",
       "2497  https://www.the-numbers.com/movie/Woodstock#ta...   \n",
       "2498  https://www.the-numbers.com/movie/Monster#tab=...   \n",
       "2499  https://www.the-numbers.com/movie/Doors-The#ta...   \n",
       "\n",
       "                                     title  \n",
       "0     Star Wars Ep. VII: The Force Awakens  \n",
       "1                        Avengers: Endgame  \n",
       "2                                   Avatar  \n",
       "3                            Black Panther  \n",
       "4                   Avengers: Infinity War  \n",
       "...                                    ...  \n",
       "2495                            Concussion  \n",
       "2496                            Courageous  \n",
       "2497                             Woodstock  \n",
       "2498                               Monster  \n",
       "2499                             The Doors  \n",
       "\n",
       "[2500 rows x 2 columns]"
      ]
     },
     "execution_count": 16,
     "metadata": {},
     "output_type": "execute_result"
    }
   ],
   "source": [
    "import pandas as pd\n",
    "df = pd.DataFrame(top_100)\n",
    "df"
   ]
  },
  {
   "cell_type": "code",
   "execution_count": 17,
   "metadata": {},
   "outputs": [],
   "source": [
    "df[['title','link']].to_csv('/Users/armaan/src/bbox/mdata/thenum/top_level_movies.csv', index=False)"
   ]
  }
 ],
 "metadata": {
  "kernelspec": {
   "display_name": "Python 3",
   "language": "python",
   "name": "python3"
  },
  "language_info": {
   "codemirror_mode": {
    "name": "ipython",
    "version": 3
   },
   "file_extension": ".py",
   "mimetype": "text/x-python",
   "name": "python",
   "nbconvert_exporter": "python",
   "pygments_lexer": "ipython3",
   "version": "3.7.7"
  }
 },
 "nbformat": 4,
 "nbformat_minor": 4
}
