{
 "cells": [
  {
   "cell_type": "code",
   "execution_count": null,
   "metadata": {},
   "outputs": [],
   "source": [
    "import pandas as pd\n",
    "import numpy as np"
   ]
  },
  {
   "cell_type": "code",
   "execution_count": 53,
   "metadata": {},
   "outputs": [],
   "source": [
    "class Genre:\n",
    "    \n",
    "    @staticmethod\n",
    "    def get_genres():\n",
    "        return {\n",
    "            \"Adventure\": 100, \"Action\": 200, \"Thriller/Suspense\": 300,\n",
    "            \"Musical\": 400, \"Drama\": 500, \"Horror\": 600\n",
    "               }"
   ]
  },
  {
   "cell_type": "code",
   "execution_count": 54,
   "metadata": {},
   "outputs": [],
   "source": [
    "class ProductionMethod:\n",
    "    \n",
    "    @staticmethod\n",
    "    def get_methods():\n",
    "        return {\n",
    "            \"Animation/Live Action\": 1, \"Live Action\": 2, \"Digital Animation\": 3,\n",
    "            \"Hand Animation\": 4\n",
    "               }"
   ]
  },
  {
   "cell_type": "code",
   "execution_count": 55,
   "metadata": {},
   "outputs": [],
   "source": [
    "class CreativeType:\n",
    "    \n",
    "    @staticmethod\n",
    "    def get_types():\n",
    "        return {\n",
    "            \"Science Fiction\": 10, \"Super Hero\": 20, \"Historical Fiction\": 30,\n",
    "            \"Kids Fiction\": 40, \"Fantasy\": 50, \"Dramatization\": 60,\n",
    "            \"Contemporary Fiction\": 70\n",
    "               }"
   ]
  },
  {
   "cell_type": "code",
   "execution_count": 56,
   "metadata": {},
   "outputs": [],
   "source": [
    "def recommend_similar_movies(df, movie_name, how_many=5):\n",
    "    \n",
    "    movie_index = df[df[\"name\"] == movie_name].index[0]\n",
    "    max_rows = len(df[\"name\"])\n",
    "    top_index = movie_index - 1\n",
    "    bottom_index = movie_index + 1\n",
    "    count = 1\n",
    "    similar_movies = []\n",
    "    cur_movie_score = df.iloc[movie_index][\"similarity_score\"]\n",
    "    while bottom_index < max_rows and top_index >= 0 and count <= how_many:\n",
    "        top_score_diff = cur_movie_score - df.iloc[top_index][\"similarity_score\"]\n",
    "        bottom_score_diff = df.iloc[bottom_index][\"similarity_score\"] - cur_movie_score\n",
    "        if top_score_diff <= bottom_score_diff:\n",
    "            similar_movies.append(df.iloc[top_index][\"name\"])\n",
    "            top_index -= 1\n",
    "        else:\n",
    "            similar_movies.append(df.iloc[bottom_index][\"name\"])\n",
    "            bottom_index += 1\n",
    "        count += 1\n",
    "        \n",
    "    if count <= how_many:\n",
    "        while top_index >= 0 and count <= how_many:\n",
    "            similar_movies.append(df.iloc[top_index][\"name\"])\n",
    "            top_index -= 1\n",
    "            count += 1\n",
    "        \n",
    "        while bottom_index < max_rows and count <= how_many:\n",
    "            similar_movies.append(df.iloc[bottom_index][\"name\"])\n",
    "            bottom_index += 1\n",
    "            count += 1\n",
    "            \n",
    "    return similar_movies"
   ]
  },
  {
   "cell_type": "code",
   "execution_count": null,
   "metadata": {},
   "outputs": [],
   "source": [
    "CSV_FILE = \"./../mdata/final_result/master_table.csv\"\n",
    "movies_df = pd.read_csv(CSV_FILE)"
   ]
  },
  {
   "cell_type": "code",
   "execution_count": 57,
   "metadata": {},
   "outputs": [],
   "source": [
    "similarity_scores = []\n",
    "genres = Genre().get_genres()\n",
    "prod_methods = ProductionMethod().get_methods()\n",
    "creative_types = CreativeType().get_types()\n",
    "copy_df = movies_df.copy()\n",
    "for _, movie in copy_df.iterrows():\n",
    "    score = genres[movie[\"genre\"]] + prod_methods[movie[\"production_method\"]] + \\\n",
    "            creative_types[movie[\"creative_type\"]]\n",
    "    similarity_scores.append(score)\n",
    "    \n",
    "copy_df[\"similarity_score\"] = similarity_scores\n",
    "copy_df.sort_values(by=\"similarity_score\", inplace=True)\n",
    "copy_df.reset_index(inplace=True)\n",
    "copy_df.drop(\"index\", axis=1, inplace=True)\n",
    "copy_df.to_csv(\"recommendation_df.csv\")"
   ]
  }
 ],
 "metadata": {
  "kernelspec": {
   "display_name": "Python 3",
   "language": "python",
   "name": "python3"
  },
  "language_info": {
   "codemirror_mode": {
    "name": "ipython",
    "version": 3
   },
   "file_extension": ".py",
   "mimetype": "text/x-python",
   "name": "python",
   "nbconvert_exporter": "python",
   "pygments_lexer": "ipython3",
   "version": "3.6.9"
  }
 },
 "nbformat": 4,
 "nbformat_minor": 2
}
