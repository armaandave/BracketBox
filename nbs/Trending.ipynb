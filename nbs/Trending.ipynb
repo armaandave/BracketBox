{
 "cells": [
  {
   "cell_type": "code",
   "execution_count": 1,
   "metadata": {},
   "outputs": [],
   "source": [
    "#imports\n",
    "import pandas as pd \n",
    "from pandas import DataFrame\n",
    "from slugify import slugify\n",
    "import requests\n",
    "from tqdm.notebook import tqdm\n",
    "from time import sleep\n",
    "from bs4 import BeautifulSoup as bs\n",
    "import json\n",
    "from datetime import datetime\n",
    "import webbrowser\n",
    "pd.set_option('display.float_format', lambda x: '%.2f' % x)\n",
    "import matplotlib.pyplot as plt\n",
    "plt.style.use('classic')\n",
    "%matplotlib inline\n",
    "import numpy as np"
   ]
  },
  {
   "cell_type": "code",
   "execution_count": 4,
   "metadata": {},
   "outputs": [],
   "source": [
    "#get current movies in theatres\n",
    "tmdb = requests.get(\"https://api.themoviedb.org/3/movie/now_playing?api_key=a6837e56522d89b354d01b07e393bebc&language=en-US&page=1\")\n",
    "current_results = tmdb.json()['results']\n",
    "current_movie_titles = [s['title'] for s in current_results]\n",
    "current_movies_posters = [s['poster_path'] for s in current_results]\n",
    "current_df = pd.DataFrame()\n",
    "current_df[\"title\"] = current_movie_titles\n",
    "current_df[\"poster_path\"] = current_movies_posters\n",
    "current_df.to_csv('/Users/armaan/src/bbox/mdata/final_result/trending/current_in_theater.csv', index=False)"
   ]
  },
  {
   "cell_type": "code",
   "execution_count": 6,
   "metadata": {},
   "outputs": [],
   "source": [
    "#get upcoming movies in theatres\n",
    "tmdb = requests.get(\"https://api.themoviedb.org/3/movie/upcoming?api_key=a6837e56522d89b354d01b07e393bebc&language=en-US&page=1\")\n",
    "upcoming_results = tmdb.json()['results']\n",
    "upcoming_movie_titles = [s['title'] for s in upcoming_results]\n",
    "upcoming_movies_posters = [s['poster_path'] for s in upcoming_results]\n",
    "upcoming_df = pd.DataFrame()\n",
    "upcoming_df[\"title\"] = upcoming_movie_titles\n",
    "upcoming_df[\"poster_path\"] = upcoming_movies_posters\n",
    "upcoming_df.to_csv('/Users/armaan/src/bbox/mdata/final_result/trending/upcoming_in_theater.csv', index=False)"
   ]
  },
  {
   "cell_type": "code",
   "execution_count": 8,
   "metadata": {},
   "outputs": [],
   "source": [
    "#get popular movies\n",
    "tmdb = requests.get(\"https://api.themoviedb.org/3/movie/popular?api_key=a6837e56522d89b354d01b07e393bebc&language=en-US&page=1\")\n",
    "popular_results = tmdb.json()['results']\n",
    "popular_movie_titles = [s['title'] for s in popular_results]\n",
    "popular_movies_posters = [s['poster_path'] for s in popular_results]\n",
    "popular_df = pd.DataFrame()\n",
    "popular_df[\"title\"] = popular_movie_titles\n",
    "popular_df[\"poster_path\"] = popular_movies_posters\n",
    "popular_df.to_csv('/Users/armaan/src/bbox/mdata/final_result/trending/popular_movies.csv', index=False)"
   ]
  },
  {
   "cell_type": "code",
   "execution_count": 9,
   "metadata": {},
   "outputs": [],
   "source": [
    "#get popular tv shows\n",
    "tmdb = requests.get(\"https://api.themoviedb.org/3/tv/popular?api_key=a6837e56522d89b354d01b07e393bebc&language=en-US&page=1\")\n",
    "popular_tv_results = tmdb.json()['results']\n",
    "popular_tv_titles = [s['name'] for s in popular_tv_results]\n",
    "popular_tv_posters = [s['poster_path'] for s in popular_tv_results]\n",
    "popular_df = pd.DataFrame()\n",
    "popular_df[\"title\"] = popular_tv_titles\n",
    "popular_df[\"poster_path\"] = popular_tv_posters\n",
    "popular_df.to_csv('/Users/armaan/src/bbox/mdata/final_result/trending/popular_tv.csv', index=False)"
   ]
  }
 ],
 "metadata": {
  "kernelspec": {
   "display_name": "Python 3",
   "language": "python",
   "name": "python3"
  },
  "language_info": {
   "codemirror_mode": {
    "name": "ipython",
    "version": 3
   },
   "file_extension": ".py",
   "mimetype": "text/x-python",
   "name": "python",
   "nbconvert_exporter": "python",
   "pygments_lexer": "ipython3",
   "version": "3.7.7"
  }
 },
 "nbformat": 4,
 "nbformat_minor": 4
}
